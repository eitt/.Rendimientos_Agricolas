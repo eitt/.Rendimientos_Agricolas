{
 "cells": [
  {
   "cell_type": "markdown",
   "metadata": {},
   "source": [
    "# Notebook para crear el Dataset de rendimientos agrícolas"
   ]
  },
  {
   "cell_type": "markdown",
   "metadata": {},
   "source": [
    "Para la construcción del Dataset, se parte de la información encontrada en la base de datos _S06A(Cultivos)_, se seleccionan los predios ubicados en la provincia de Guanentá (17 municipios), posterior a ello, son filtrados los predios que tienen una producción tipo monocultivo con el fin de evitar doble contabilización de predios sembrados. Para este caso, se encueta que el 99.78% de los predios presentaron una siembra tipo monocultivo, lo cual corresponde a un total de 14764 Lotes. De dichos lotes son seleccionados aquellos que tienen un área no superior a 5 hectáreas y han presentado cultivos al aire libre (es decir, sin incluir cultivos hidropónicos ni invernaderos) con un rendimiento histórico documentado (cantidad de kilos de producto por unidad de área), para un total de 7039 lotes."
   ]
  },
  {
   "cell_type": "markdown",
   "metadata": {},
   "source": [
    "El Notebook está estructurado de tal manera que sea posible hacer un seguimiento a la construción del Dataset sin datos perdidos. Para ello, se divide en las siguientes secciones:\n",
    "\n",
    "[1. Adquisición de los datos y depuración](#seccion 1)\n",
    "\n",
    "[2. Imputación del Dataset](#seccion 2)\n",
    "\n",
    "[2.1 Imputación usando _MICE_](#seccion 3)\n",
    "\n",
    "[2.2 Imputación usando _missForest_](#seccion 4)\n",
    "\n",
    "[2.3 Imputación final](#seccion 5)\n"
   ]
  },
  {
   "cell_type": "markdown",
   "metadata": {},
   "source": [
    "# <a id='seccion 1'></a> 1. Adquisición de los datos y depuración"
   ]
  },
  {
   "cell_type": "markdown",
   "metadata": {},
   "source": [
    "En la primera sección se cargan los paquetes necesarios para trabajar los modelos de pronósticos:"
   ]
  },
  {
   "cell_type": "code",
   "execution_count": 1,
   "metadata": {},
   "outputs": [
    {
     "name": "stderr",
     "output_type": "stream",
     "text": [
      "Warning message:\n",
      "\"package 'readr' was built under R version 3.4.4\"Loading required package: colorspace\n",
      "Loading required package: grid\n",
      "Loading required package: data.table\n",
      "\n",
      "Attaching package: 'data.table'\n",
      "\n",
      "The following objects are masked from 'package:reshape2':\n",
      "\n",
      "    dcast, melt\n",
      "\n",
      "VIM is ready to use. \n",
      " Since version 4.0.0 the GUI is in its own package VIMGUI.\n",
      "\n",
      "          Please use the package to use the new (and old) GUI.\n",
      "\n",
      "Suggestions and bug-reports can be submitted at: https://github.com/alexkowa/VIM/issues\n",
      "\n",
      "Attaching package: 'VIM'\n",
      "\n",
      "The following object is masked from 'package:datasets':\n",
      "\n",
      "    sleep\n",
      "\n",
      "Loading required package: randomForest\n",
      "randomForest 4.6-12\n",
      "Type rfNews() to see new features/changes/bug fixes.\n",
      "\n",
      "Attaching package: 'randomForest'\n",
      "\n",
      "The following object is masked from 'package:ggplot2':\n",
      "\n",
      "    margin\n",
      "\n",
      "Loading required package: foreach\n",
      "Loading required package: itertools\n",
      "Loading required package: iterators\n",
      "Loading required package: Matrix\n",
      "Loading required package: stats4\n",
      "mi (Version 1.0, packaged: 2015-04-16 14:03:10 UTC; goodrich)\n",
      "mi  Copyright (C) 2008, 2009, 2010, 2011, 2012, 2013, 2014, 2015 Trustees of Columbia University\n",
      "This program comes with ABSOLUTELY NO WARRANTY.\n",
      "This is free software, and you are welcome to redistribute it\n",
      "under the General Public License version 2 or later.\n",
      "Execute RShowDoc('COPYING') for details.\n",
      "\n",
      "Attaching package: 'mi'\n",
      "\n",
      "The following objects are masked from 'package:mice':\n",
      "\n",
      "    complete, pool\n",
      "\n",
      "Loading required package: Rcpp\n",
      "Warning message:\n",
      "\"package 'Rcpp' was built under R version 3.4.4\"## \n",
      "## Amelia II: Multiple Imputation\n",
      "## (Version 1.7.4, built: 2015-12-05)\n",
      "## Copyright (C) 2005-2018 James Honaker, Gary King and Matthew Blackwell\n",
      "## Refer to http://gking.harvard.edu/amelia/ for more information\n",
      "## \n",
      "Loading required package: lattice\n",
      "Loading required package: survival\n",
      "Loading required package: Formula\n",
      "\n",
      "Attaching package: 'Hmisc'\n",
      "\n",
      "The following object is masked from 'package:randomForest':\n",
      "\n",
      "    combine\n",
      "\n",
      "The following objects are masked from 'package:base':\n",
      "\n",
      "    format.pval, round.POSIXt, trunc.POSIXt, units\n",
      "\n"
     ]
    }
   ],
   "source": [
    "#install.packages(\"Hmisc\")\n",
    "library(readr)      #Cargar los datos desde un csv\n",
    "library(ggplot2)    #Modificar las imágenes\n",
    "library(reshape2)   #Modificar las imágenes\n",
    "library(VIM)        #Visualizar datos pendientes\n",
    "library(missForest) #Imputar utilizando RandomForest\n",
    "library(mice)       #Imputar sin considerar la \n",
    "                    #distribución de las variables\n",
    "library(mi)         #Imputar analizando colinealidad\n",
    "library(magrittr)   #trabajar con funciones %>%\n",
    "library(Amelia)     #Imputar\n",
    "library(Hmisc)      #Imputar\n",
    "        "
   ]
  },
  {
   "cell_type": "markdown",
   "metadata": {},
   "source": [
    "Ahora es cargada la base de datos de precios y se observan los campos que la componen:"
   ]
  },
  {
   "cell_type": "code",
   "execution_count": 2,
   "metadata": {},
   "outputs": [
    {
     "name": "stderr",
     "output_type": "stream",
     "text": [
      "Warning message in file(file, \"rt\"):\n",
      "\"no fue posible abrir el archivo 'DATA.csv': No such file or directory\""
     ]
    },
    {
     "ename": "ERROR",
     "evalue": "Error in file(file, \"rt\"): no se puede abrir la conexión\n",
     "output_type": "error",
     "traceback": [
      "Error in file(file, \"rt\"): no se puede abrir la conexión\nTraceback:\n",
      "1. read.csv(file = \"DATA.csv\", na = c(\"\", \"\"), header = TRUE, sep = \";\")",
      "2. read.table(file = file, header = header, sep = sep, quote = quote, \n .     dec = dec, fill = fill, comment.char = comment.char, ...)",
      "3. file(file, \"rt\")"
     ]
    }
   ],
   "source": [
    "#Se cargan los datos\n",
    "DATA <- read.csv(file=\"DATA.csv\",  na = c(\"\", \"\"), \n",
    "                 header=TRUE, sep=\";\") \n",
    "DATA<-as.data.frame(DATA)\n",
    "print(\"Tamaño del Dataset\")\n",
    "dim(DATA)\n",
    "\n",
    "#A continuación se expone el código para describir\n",
    "#el dataset.\n",
    "print(\"Visualización de los 5 primeros datos y 5 primeras variables\")\n",
    "head(DATA[1:5])\n",
    "print(\"Características de los datos y 5 primeras variables\")\n",
    "print(str(DATA[1:5]))\n",
    "print(\"Resumen descriptivo de los datos y 5 primeras variables\")\n",
    "summary(DATA[1:5])\n",
    "print(\"Visualización de los datos perdidos\")\n",
    "#Con el propósito de identificar si existen datos perdidos \n",
    "#(una aproximación visual), se adapta una función creada por \n",
    "#Nicholas Tierney https://njtierney.github.io/\n",
    "\n",
    "#Inicio de la función\n",
    "ggplot_missing <- function(x){\n",
    "  \n",
    "  x %>% \n",
    "    is.na %>%\n",
    "    melt %>%\n",
    "    ggplot(data = .,\n",
    "           aes(x = Var2,\n",
    "               y = Var1)) +\n",
    "    geom_raster(aes(fill = value)) +\n",
    "    scale_fill_grey(name = \"\",\n",
    "                    labels = c(\"Presentes\",\"Perdidos\")) +\n",
    "    theme_minimal() + \n",
    "    theme(axis.text.x  = element_text(angle=45, vjust=0.5)) + \n",
    "    labs(x = \"Variables en el Dataset\",\n",
    "         y = \"Filas / observaciones\")\n",
    "}\n",
    "#Fin de la Función\n",
    "ggplot_missing(DATA)"
   ]
  },
  {
   "cell_type": "markdown",
   "metadata": {},
   "source": [
    "Teniendo en cuenta la Figura de datos perdidos mostrada anteriormente, se puede observar que la mayor parte del Dataset está compuesta por datos ausentes, lo anterior se deriva del registro obtenido durante el Censo Nacional Agropecuario, donde cada una de las unidades productivas fue entrevistada (En el dataset, el campo **ID** indica cada predio, unidad productiva o Lote), por tanto, existe al menos un producto cultivado y recogido por lote, del cual se obtiene la información del rendimiento $[Kg/m^2]$.\n",
    "\n",
    "Por otra parte, el campo **Municipio**, indica a cual de los 17 municipios pertenece el predio y, como idea general, el propósito del presente Notebook es completar los datos faltantes. Dicho objetivo se debe a que el proyecto raíz **Modelo de optimización multiobjetivo para la programación de la producción agrícola a pequeña escala en Santander, Colombia**,tiene como supuesto que cualquiera de los 17 productos puede ser cultivado en cualquier lote y que no necesariamente existe un mismo rendimiento de kilogramos cultivados por unidad de área para cada Lote. "
   ]
  },
  {
   "cell_type": "markdown",
   "metadata": {},
   "source": [
    "# <a id='seccion 2'></a> 2. Imputación del Dataset"
   ]
  },
  {
   "cell_type": "markdown",
   "metadata": {},
   "source": [
    "Para revisar  la dispersión de los rendimientos, a continuación se grafican los rendimientos de cada producto por Municipio."
   ]
  },
  {
   "cell_type": "code",
   "execution_count": null,
   "metadata": {},
   "outputs": [],
   "source": [
    "#Primero se construye una función para graficar todas \n",
    "#las series de manera independiente utilziando un bucle\n",
    "\n",
    "#Creación de la función\n",
    "GRAFICAR <- function(x, na.rm = TRUE, ...)\n",
    "    {\n",
    "    nm <- names(x)\n",
    "      for (i in seq_along(nm[3:length(x[1,])])) \n",
    "        {\n",
    "         plots <-ggplot(x,aes(x[,1], x[,(i+2)])) +\n",
    "          geom_boxplot(outlier.colour=\"red\")\n",
    "          plots<-plots+labs(x = \"Municipio\")+\n",
    "          labs(y = \"Rendimiento [Kg/m2]\")+labs(title = \n",
    "                \"Rendimiento para el producto:\", \n",
    "              subtitle = nm[i+2])+theme(axis.text.x  = \n",
    "              element_text(angle=45, vjust=0.5))\n",
    "        print(plots)\n",
    "        }\n",
    "    }\n",
    "#Fin de la función\n",
    "\n",
    "#Se ejecuta la función\n",
    "#GRAFICAR(DATA)\n",
    "\n",
    "#Para facilitar le presentación de los datos, se \n",
    "#imprime a modo de ejemplo, los valores correspondientes\n",
    "#al tercer producto\n",
    "GRAFICAR(as.data.frame(c(DATA[1:2],DATA[5])))"
   ]
  },
  {
   "cell_type": "markdown",
   "metadata": {},
   "source": [
    "Teniendo en cuenta la cantidad de datos perdidos, para todos los productos bajo estudio, la mayoría de las observaciones aparecen en la categoría *NA* . Por otra parte, se evidencia que el producto _Yuca_ es el que presenta mayor variabilidad en los rendimientos, seguido de _Perejil_, _Maíz Blanco_ y _Papas_.\n",
    "\n",
    "Para proseguir con la imputación de datos, se trabajará con tres paquetes diferentes: *MICE*, *missForest* y *mi*, posteriormente se analiZará la diferencia entre los distintos métodos de imputación y finalmente se construirá el _Dataset_ final."
   ]
  },
  {
   "cell_type": "markdown",
   "metadata": {},
   "source": [
    "## <a id='seccion 3'></a> 2.1 Imputación usando MICE"
   ]
  },
  {
   "cell_type": "markdown",
   "metadata": {},
   "source": [
    "Antes de generar la imputación, se revisa de manera breve la cantidad de datos perdidos, para ello el paquete _mice_ cuenta con  la función _md.pattern()_ la cual presenta de manera tabulada los valores perdidos en el _dataset_. Posterior a ello, se utiliza la función _aggr()_ del paquete _VIM_ para estimar de manera porcentual (a la par de visualizar), la cantidad de datos perdidos."
   ]
  },
  {
   "cell_type": "code",
   "execution_count": null,
   "metadata": {},
   "outputs": [],
   "source": [
    "#Se tabulan la cantidad de datos perdidos\n",
    "#md.pattern(DATA)\n",
    "#A modo de ejemplo se muestran 10 variables\n",
    "print(\"La distribución y cantidad de datos perdidos para 10 variables son:\")\n",
    "md.pattern(DATA[1:10])\n",
    "print(\"El porcentaje de datos perdido por variable es:\")\n",
    "mice_plot <- aggr(DATA, col=c('black','gray'),numbers=\n",
    "    TRUE, sortVars=TRUE,labels=names(DATA), \n",
    "    cex.axis=.7,gap=3, ylab=c(\"Datos perdidos\",\"Patrón\"))"
   ]
  },
  {
   "cell_type": "markdown",
   "metadata": {},
   "source": [
    "Se puede concluir que en total existen _140796_ valores perdidos y que, la mayoría de los productos se encuentran presentes en menos del $1\\%$ para cada relación (Producto sembrado en cada Finca), lo cual es acorde a la descripción introductoria, donde se expone que todas las fincas bajo estudio fueron cultivadas con al menos un producto. la cantidad de datos perdidos de manera descendente se presenta a continuación.\n",
    "\n",
    "**Cebada**            $99.98579\\%$\n",
    "           \n",
    "**Cilantro**          $99.98579\\%$\n",
    "         \n",
    "**Lechuga**           $99.98579\\%$\n",
    "            \n",
    "**Tomate**            $99.98579\\%$\n",
    "           \n",
    "**Pimenton**          $99.97159\\%$\n",
    "         \n",
    "**Ahuyama**           $99.95738\\%$\n",
    "          \n",
    "**Banano**            $99.94317\\%$\n",
    "           \n",
    "**Cebolla.larga**     $99.92897\\%$\n",
    "    \n",
    "**Cebolla.cabezona**  $99.78690\\%$\n",
    " \n",
    "**Habichuela**        $99.51698\\%$\n",
    "       \n",
    "**Lulo**              $99.21864\\%$\n",
    "             \n",
    "**Arveja.verde**      $99.03395\\%$\n",
    "     \n",
    "**Papaya**            $97.37179\\%$\n",
    "            \n",
    "**Papas**             $94.51627\\%$\n",
    "                        \n",
    "**Arracacha**         $92.59838\\%$\n",
    "        \n",
    "**Platano**           $92.11536\\%$\n",
    "          \n",
    "**Pinna**             $91.85964\\%$\n",
    "            \n",
    "**Maiz.Blanco**       $91.19193\\%$\n",
    "      \n",
    "**Frijol**            $90.18326\\%$\n",
    "           \n",
    "**Perejil**           $82.01449\\%$\n",
    "          \n",
    "**Yuca**              $71.07544\\%$\n",
    "             \n",
    "**Municipio**         $0.000000\\%$\n",
    "        \n",
    "**ID**                $0.000000\\%$\n",
    "               "
   ]
  },
  {
   "cell_type": "markdown",
   "metadata": {},
   "source": [
    "A continuación se presentan el código utilizado para imputar los datos mediante variables predictoras del mismo dataset"
   ]
  },
  {
   "cell_type": "code",
   "execution_count": null,
   "metadata": {},
   "outputs": [],
   "source": [
    "#Se cargan los datos a imputar, para evitar la\n",
    "#transformación de número a partir de transformar\n",
    "#listas en datasets, se trabaja con los datos \n",
    "#premultiplicados por 100, evitando así el \n",
    "#uso de variables tipo float\n",
    "DATA2<-read.csv(file=\"DATA100.csv\",\n",
    "       na = c(\"\", \"\"), header=TRUE, sep=\";\") \n",
    "#se transforman a formato dataframe\n",
    "DATA2<-as.data.frame(DATA2)\n",
    "#Se eliminan las primeras dos variables puesto\n",
    "#que el modelo no utiliza variables categóricas\n",
    "DATA2<-DATA2[,3:23]\n",
    "#se genera un modelo de regresión en el cual\n",
    "#todas las variables del dataset que no estén\n",
    "#siendo predecidas en ese isntante, funcionan como \n",
    "#variables predictoras:\n",
    "#predictorMatrix = (1 - diag(1, ncol(DATA2)))\n",
    "#Además, se genera l aimputación utilizando 1\n",
    "#modelo (m=1) y 10 iteraciones\n",
    "imputed_Data <- mice(DATA2, predictorMatrix = \n",
    "    (1 - diag(1, ncol(DATA2))), m=1, \n",
    "         maxit = 10, method = 'pmm', seed = 500)\n",
    "#Los datos del modelo son almacenados en la varaible\n",
    "#DATA_MC, para mantener las variables borradas\n",
    "#(ID y Municipio), se iguala las dimensiones a\n",
    "#la variable DATA, por otra parte, como los datos\n",
    "#son obtenidos a partir de un dataset premultiplicado\n",
    "#por 100, se dividen los valores por la misma\n",
    "#cantidad\n",
    "DATA_MC<-as.data.frame(c(DATA[1:2],mice::complete(imputed_Data,1)/100))\n",
    "#Los estadísticos descriptivos del dataset imputado\n",
    "print('Los estadísticos descriptivos del dataset imputado:')\n",
    "summary(DATA_MC)\n",
    "#Como existen datos vacíos, se procede a imputar \n",
    "#utilizando el promedio de cada producto\n",
    "for(i in 3:ncol(DATA_MC)){\n",
    "  DATA_MC[is.na(DATA_MC[,i]), i] <- mean(DATA_MC[,i], na.rm = TRUE)\n",
    "}\n",
    "print('Los estadísticos descriptivos del dataset nuevamente imputado:')\n",
    "summary(DATA_MC)\n",
    "#Para facilitar le presentación de los datos, se \n",
    "#imprime a modo de ejemplo, los valores correspondientes\n",
    "#al tercer producto\n",
    "GRAFICAR(as.data.frame(c(DATA_MC[1:2],DATA_MC[5])))\n",
    " "
   ]
  },
  {
   "cell_type": "markdown",
   "metadata": {},
   "source": [
    "Teniendo en cuenta los resultados anteriores, en la estadística descriptiva se evidencia que esta metodología no es capaz de imputar todos los datos (como en el caso del producto Arracacha), lo anterior es consecuencia de la poca cantidad de datos en el dataset original. Por tanto, se imputan los datos con diversas metodologías y se promedian al final.\n",
    "            "
   ]
  },
  {
   "cell_type": "markdown",
   "metadata": {},
   "source": [
    "## <a id='seccion 4'></a> 2.2 Imputación usando missForest"
   ]
  },
  {
   "cell_type": "markdown",
   "metadata": {},
   "source": [
    "El paquete  _missForest_  es una aplicación basada en el algoritmo *random forest*. Lo cual indica que es una imputación no paramétrica que puede ser utilizada a diferentes tipos de variables. Para lo anterior, el algoritmo genera un modelo *random forest* para cada variable a imputar en función de las varaibles observadas.\n",
    "\n",
    "A continuación se expone el algoritmo y metodología usada para impotar el dataset."
   ]
  },
  {
   "cell_type": "code",
   "execution_count": null,
   "metadata": {},
   "outputs": [],
   "source": [
    "#Se cargan los datos a imputar, para evitar la\n",
    "#transformación de número a partir de transformar\n",
    "#listas en datasets, se trabaja con los datos \n",
    "#premultiplicados por 100, evitando así el \n",
    "#uso de variables tipo float\n",
    "DATA2<-read.csv(file=\"DATA100.csv\",\n",
    "       na = c(\"\", \"\"), header=TRUE, sep=\";\") \n",
    "#se transforman a formato dataframe\n",
    "DATA2<-as.data.frame(DATA2)\n",
    "#Se eliminan las primeras dos variables puesto\n",
    "#que el modelo no utiliza variables categóricas\n",
    "DATA2<-DATA2[,3:23]\n",
    "#Se ejecuta el algoritmo de random forest, \n",
    "#para ello se propone trabajar con una cantidad\n",
    "#máxima de 100 árboles y un número de iteraciones\n",
    "#no superior a 10. Teniendo en cuenta que\n",
    "#los datos han sido transformados pre\n",
    "#multiplicando sus valroes por 100, la\n",
    "#salida es dividida en la misma proporción.\n",
    "DATA_RF<-as.data.frame(c(DATA[1:2],\n",
    "      missForest(DATA2,maxiter = 10, ntree = 100,\n",
    "                 decreasing = FALSE)))\n",
    "DATA_RF[3:23]<-DATA_RF[3:23]/100\n",
    "#Los estadísticos descriptivos del dataset imputado\n",
    "print('Los estadísticos descriptivos del dataset imputado:')\n",
    "summary(DATA_RF)\n",
    "#Como el modelo genera una nueva columna con la información\n",
    "#relacionada con el error, ésta es eliminada para permitir\n",
    "#los cálculos entre datasets.\n",
    "DATA_RF<-DATA_RF[1:23]\n",
    "#Para facilitar le presentación de los datos, se \n",
    "#imprime a modo de ejemplo, los valores correspondientes\n",
    "#al tercer producto\n",
    "GRAFICAR(as.data.frame(c(DATA_RF[1:2],DATA_RF[5])))\n",
    " "
   ]
  },
  {
   "cell_type": "markdown",
   "metadata": {},
   "source": [
    "Para el caso de los productos imputados utilizando el algoritmo de _random forest_ es posible estimar el valor de todos los datos. Ahora bien, con el propósito de tener un un dataset consolidado, se procede a realizar un promedio de los dos métodos."
   ]
  },
  {
   "cell_type": "markdown",
   "metadata": {},
   "source": [
    "## <a id='seccion 5'></a> 2.3 Imputación final"
   ]
  },
  {
   "cell_type": "code",
   "execution_count": null,
   "metadata": {},
   "outputs": [],
   "source": [
    "#para generar una unión en los datasets ambos\n",
    "#deben tener igual nombre de variables, debido\n",
    "#a que el dataset obtenido mediante random forest\n",
    "#genera un nuevo nombre de variables, estas\n",
    "#deben ser unificadas con el nombre del dataset\n",
    "#obtenido con el mñetido de Mice\n",
    "colnames(DATA_RF)<-colnames(DATA_MC)\n",
    "#un ejemplo para 5 variables se encuentra a \n",
    "#continuación\n",
    "print('Dataset imputado con Mice')\n",
    "head(DATA_MC[1:5])\n",
    "print('Dataset imputado con Random Forest')\n",
    "head(DATA_RF[1:5])\n",
    "#Se verifica que posean la misma cantidad de variables\n",
    "print('dimensiones del Dataset imputado con Mice')\n",
    "dim(DATA_MC)\n",
    "print('dimensiones del Dataset imputado con Random Forest')\n",
    "dim(DATA_RF)\n",
    "#Se crea un nuevo dataset con el tamaño del original\n",
    "DATA_IMPUTADO<-DATA\n",
    "#Se promedian los valores de los dataset\n",
    "DATA_IMPUTADO[3:23]<-((as.numeric(unlist(DATA_RF[3:23])))\n",
    "                      +(as.numeric(unlist(DATA_MC[3:23]))))/2\n",
    "#un ejemplodel resultado final para 5 variables se \n",
    "#encuentra a continuación\n",
    "print('Dataset imputado final')\n",
    "head(DATA_IMPUTADO[1:5])\n",
    "#Se genera el resumen estadístico del dataset final\n",
    "print('Resumen estadístico del Dataset imputado final')\n",
    "summary(DATA_IMPUTADO)\n",
    "#Se grafican los resultados\n",
    "#GRAFICAR(DATA_IMPUTADO)\n",
    "#Para facilitar le presentación de los datos, se \n",
    "#imprime a modo de ejemplo, los valores correspondientes\n",
    "#al tercer producto\n",
    "GRAFICAR(as.data.frame(c(DATA_IMPUTADO[1:2],DATA_IMPUTADO[5])))"
   ]
  },
  {
   "cell_type": "code",
   "execution_count": null,
   "metadata": {},
   "outputs": [],
   "source": [
    "#Se guarda el dataset\n",
    "write.csv(DATA_IMPUTADO, file=\"C:RENDIMIENTOS POR LOTE.csv\")  "
   ]
  },
  {
   "cell_type": "code",
   "execution_count": null,
   "metadata": {},
   "outputs": [],
   "source": []
  }
 ],
 "metadata": {
  "kernelspec": {
   "display_name": "R",
   "language": "R",
   "name": "ir"
  },
  "language_info": {
   "codemirror_mode": "r",
   "file_extension": ".r",
   "mimetype": "text/x-r-source",
   "name": "R",
   "pygments_lexer": "r",
   "version": "3.4.3"
  }
 },
 "nbformat": 4,
 "nbformat_minor": 2
}
