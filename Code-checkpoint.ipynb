{
 "cells": [
  {
   "cell_type": "markdown",
   "metadata": {},
   "source": [
    "# Notebook para crear el Dataset de rendimientos agrícolas"
   ]
  },
  {
   "cell_type": "markdown",
   "metadata": {},
   "source": [
    "Para la construcción del Dataset, se parte de la información encontrada en la base de datos _S06A(Cultivos)_, se seleccionan los predios ubicados en la provincia de Guanentá (17 municipios), posterior a ello, son filtrados los predios que tienen una producción tipo monocultivo con el fin de evitar doble contabilización de predios sembrados. Para este caso, se encueta que el 99.78% de los predios presentaron una siembra tipo monocultivo, lo cual corresponde a un total de 14764 Lotes. De dichos lotes son seleccionados aquellos que tienen un área no superior a 5 hectáreas y han presentado cultivos al aire libre (es decir, sin incluir cultivos hidropónicos ni invernaderos) con un rendimiento histórico documentado (cantidad de kilos de producto por unidad de área), para un total de 7039 lotes."
   ]
  },
  {
   "cell_type": "markdown",
   "metadata": {},
   "source": [
    "El Notebook está estructurado de tal manera que sea posible hacer un seguimiento a la construción del Dataset sin datos perdidos. Para ello, se divide en las siguientes secciones:\n",
    "\n",
    "[1. Adquisición de los datos y depuración](#seccion 1)\n",
    "\n",
    "[2. Imputación del Dataset](#seccion 2)\n",
    "\n",
    "[2.1 Imputación usando _MICE_](#seccion 3)\n",
    "\n",
    "[2.2 Imputación usando _missForest_](#seccion 4)\n",
    "\n",
    "[2.3 Imputación final](#seccion 5)\n"
   ]
  },
  {
   "cell_type": "markdown",
   "metadata": {},
   "source": [
    "# <a id='seccion 1'></a> 1. Adquisición de los datos y depuración"
   ]
  },
  {
   "cell_type": "markdown",
   "metadata": {},
   "source": [
    "En la primera sección se cargan los paquetes necesarios para trabajar los modelos de pronósticos:"
   ]
  },
  {
   "cell_type": "code",
   "execution_count": 9,
   "metadata": {},
   "outputs": [],
   "source": [
    "options(warm=-1)"
   ]
  },
  {
   "cell_type": "code",
   "execution_count": 10,
   "metadata": {},
   "outputs": [],
   "source": [
    "#install.packages(\"Hmisc\")\n",
    "library(readr)      #Cargar los datos desde un csv\n",
    "library(ggplot2)    #Modificar las imágenes\n",
    "library(reshape2)   #Modificar las imágenes\n",
    "library(VIM)        #Visualizar datos pendientes\n",
    "library(missForest) #Imputar utilizando RandomForest\n",
    "library(mice)       #Imputar sin considerar la \n",
    "                    #distribución de las variables\n",
    "library(mi)         #Imputar analizando colinealidad\n",
    "library(magrittr)   #trabajar con funciones %>%\n",
    "library(Amelia)     #Imputar\n",
    "library(Hmisc)      #Imputar\n",
    "        "
   ]
  },
  {
   "cell_type": "markdown",
   "metadata": {},
   "source": [
    "Ahora es cargada la base de datos de precios y se observan los campos que la componen:"
   ]
  },
  {
   "cell_type": "code",
   "execution_count": 12,
   "metadata": {},
   "outputs": [
    {
     "name": "stdout",
     "output_type": "stream",
     "text": [
      "[1] \"Tamaño del Dataset\"\n"
     ]
    },
    {
     "data": {
      "text/html": [
       "<ol class=list-inline>\n",
       "\t<li>7039</li>\n",
       "\t<li>23</li>\n",
       "</ol>\n"
      ],
      "text/latex": [
       "\\begin{enumerate*}\n",
       "\\item 7039\n",
       "\\item 23\n",
       "\\end{enumerate*}\n"
      ],
      "text/markdown": [
       "1. 7039\n",
       "2. 23\n",
       "\n",
       "\n"
      ],
      "text/plain": [
       "[1] 7039   23"
      ]
     },
     "metadata": {},
     "output_type": "display_data"
    },
    {
     "name": "stdout",
     "output_type": "stream",
     "text": [
      "[1] \"Visualización de los 5 primeros datos y 5 primeras variables\"\n"
     ]
    },
    {
     "data": {
      "text/html": [
       "<table>\n",
       "<thead><tr><th scope=col>Municipio</th><th scope=col>ID</th><th scope=col>Ahuyama</th><th scope=col>Arracacha</th><th scope=col>Arveja.verde</th></tr></thead>\n",
       "<tbody>\n",
       "\t<tr><td>Aratoca</td><td>6737   </td><td>NA     </td><td>NA     </td><td>NA     </td></tr>\n",
       "\t<tr><td>Aratoca</td><td>6763   </td><td>NA     </td><td>NA     </td><td>NA     </td></tr>\n",
       "\t<tr><td>Aratoca</td><td>6783   </td><td>NA     </td><td>NA     </td><td>NA     </td></tr>\n",
       "\t<tr><td>Aratoca</td><td>6819   </td><td>NA     </td><td>NA     </td><td>NA     </td></tr>\n",
       "\t<tr><td>Aratoca</td><td>6862   </td><td>NA     </td><td>NA     </td><td>NA     </td></tr>\n",
       "\t<tr><td>Aratoca</td><td>6870   </td><td>NA     </td><td>NA     </td><td>NA     </td></tr>\n",
       "</tbody>\n",
       "</table>\n"
      ],
      "text/latex": [
       "\\begin{tabular}{r|lllll}\n",
       " Municipio & ID & Ahuyama & Arracacha & Arveja.verde\\\\\n",
       "\\hline\n",
       "\t Aratoca & 6737    & NA      & NA      & NA     \\\\\n",
       "\t Aratoca & 6763    & NA      & NA      & NA     \\\\\n",
       "\t Aratoca & 6783    & NA      & NA      & NA     \\\\\n",
       "\t Aratoca & 6819    & NA      & NA      & NA     \\\\\n",
       "\t Aratoca & 6862    & NA      & NA      & NA     \\\\\n",
       "\t Aratoca & 6870    & NA      & NA      & NA     \\\\\n",
       "\\end{tabular}\n"
      ],
      "text/markdown": [
       "\n",
       "Municipio | ID | Ahuyama | Arracacha | Arveja.verde | \n",
       "|---|---|---|---|---|---|\n",
       "| Aratoca | 6737    | NA      | NA      | NA      | \n",
       "| Aratoca | 6763    | NA      | NA      | NA      | \n",
       "| Aratoca | 6783    | NA      | NA      | NA      | \n",
       "| Aratoca | 6819    | NA      | NA      | NA      | \n",
       "| Aratoca | 6862    | NA      | NA      | NA      | \n",
       "| Aratoca | 6870    | NA      | NA      | NA      | \n",
       "\n",
       "\n"
      ],
      "text/plain": [
       "  Municipio ID   Ahuyama Arracacha Arveja.verde\n",
       "1 Aratoca   6737 NA      NA        NA          \n",
       "2 Aratoca   6763 NA      NA        NA          \n",
       "3 Aratoca   6783 NA      NA        NA          \n",
       "4 Aratoca   6819 NA      NA        NA          \n",
       "5 Aratoca   6862 NA      NA        NA          \n",
       "6 Aratoca   6870 NA      NA        NA          "
      ]
     },
     "metadata": {},
     "output_type": "display_data"
    },
    {
     "name": "stdout",
     "output_type": "stream",
     "text": [
      "[1] \"Características de los datos y 5 primeras variables\"\n",
      "'data.frame':\t7039 obs. of  5 variables:\n",
      " $ Municipio   : Factor w/ 17 levels \"Aratoca\",\"Barichara\",..: 1 1 1 1 1 1 1 1 1 1 ...\n",
      " $ ID          : int  6737 6763 6783 6819 6862 6870 6906 6907 6924 6925 ...\n",
      " $ Ahuyama     : Factor w/ 3 levels \"2,05\",\"2,13\",..: NA NA NA NA NA NA NA NA NA NA ...\n",
      " $ Arracacha   : Factor w/ 1 level \"0,26\": NA NA NA NA NA NA NA NA NA NA ...\n",
      " $ Arveja.verde: Factor w/ 15 levels \"0,83\",\"0,85\",..: NA NA NA NA NA NA NA NA NA NA ...\n",
      "NULL\n",
      "[1] \"Resumen descriptivo de los datos y 5 primeras variables\"\n"
     ]
    },
    {
     "data": {
      "text/plain": [
       "      Municipio          ID         Ahuyama     Arracacha    Arveja.verde \n",
       " San Gil   :1287   Min.   :  6737   2,05:   1   0,26: 521   1,1    :  18  \n",
       " Villanueva: 962   1st Qu.: 71381   2,13:   1   NA's:6518   0,91   :  14  \n",
       " Onzaga    : 896   Median :199277   2,28:   1               0,96   :   8  \n",
       " Coromoro  : 653   Mean   :183089   NA's:7036               0,85   :   7  \n",
       " Barichara : 573   3rd Qu.:265047                           0,86   :   4  \n",
       " Encino    : 530   Max.   :342530                           (Other):  17  \n",
       " (Other)   :2138                                            NA's   :6971  "
      ]
     },
     "metadata": {},
     "output_type": "display_data"
    },
    {
     "name": "stdout",
     "output_type": "stream",
     "text": [
      "[1] \"Visualización de los datos perdidos\"\n"
     ]
    },
    {
     "data": {},
     "metadata": {},
     "output_type": "display_data"
    },
    {
     "data": {
      "image/png": "[encoded data removed]",
      "text/plain": [
       "plot without title"
      ]
     },
     "metadata": {},
     "output_type": "display_data"
    }
   ],
   "source": [
    "#Se cargan los datos\n",
    "DATA <- read.csv(file=\"DATA.csv\",  na = c(\"\", \"\"), \n",
    "                 header=TRUE, sep=\";\") \n",
    "DATA<-as.data.frame(DATA)\n",
    "print(\"Tamaño del Dataset\")\n",
    "dim(DATA)\n",
    "\n",
    "#A continuación se expone el código para describir\n",
    "#el dataset.\n",
    "print(\"Visualización de los 5 primeros datos y 5 primeras variables\")\n",
    "head(DATA[1:5])\n",
    "print(\"Características de los datos y 5 primeras variables\")\n",
    "print(str(DATA[1:5]))\n",
    "print(\"Resumen descriptivo de los datos y 5 primeras variables\")\n",
    "summary(DATA[1:5])\n",
    "print(\"Visualización de los datos perdidos\")\n",
    "#Con el propósito de identificar si existen datos perdidos \n",
    "#(una aproximación visual), se adapta una función creada por \n",
    "#Nicholas Tierney https://njtierney.github.io/\n",
    "\n",
    "#Inicio de la función\n",
    "ggplot_missing <- function(x){\n",
    "  \n",
    "  x %>% \n",
    "    is.na %>%\n",
    "    melt %>%\n",
    "    ggplot(data = .,\n",
    "           aes(x = Var2,\n",
    "               y = Var1)) +\n",
    "    geom_raster(aes(fill = value)) +\n",
    "    scale_fill_grey(name = \"\",\n",
    "                    labels = c(\"Presentes\",\"Perdidos\")) +\n",
    "    theme_minimal() + \n",
    "    theme(axis.text.x  = element_text(angle=45, vjust=0.5)) + \n",
    "    labs(x = \"Variables en el Dataset\",\n",
    "         y = \"Filas / observaciones\")\n",
    "}\n",
    "#Fin de la Función\n",
    "ggplot_missing(DATA)"
   ]
  },
  {
   "cell_type": "markdown",
   "metadata": {},
   "source": [
    "Teniendo en cuenta la Figura de datos perdidos mostrada anteriormente, se puede observar que la mayor parte del Dataset está compuesta por datos ausentes, lo anterior se deriva del registro obtenido durante el Censo Nacional Agropecuario, donde cada una de las unidades productivas fue entrevistada (En el dataset, el campo **ID** indica cada predio, unidad productiva o Lote), por tanto, existe al menos un producto cultivado y recogido por lote, del cual se obtiene la información del rendimiento $[Kg/m^2]$.\n",
    "\n",
    "Por otra parte, el campo **Municipio**, indica a cual de los 17 municipios pertenece el predio y, como idea general, el propósito del presente Notebook es completar los datos faltantes. Dicho objetivo se debe a que el proyecto raíz **Modelo de optimización multiobjetivo para la programación de la producción agrícola a pequeña escala en Santander, Colombia**,tiene como supuesto que cualquiera de los 17 productos puede ser cultivado en cualquier lote y que no necesariamente existe un mismo rendimiento de kilogramos cultivados por unidad de área para cada Lote. "
   ]
  },
  {
   "cell_type": "markdown",
   "metadata": {},
   "source": [
    "# <a id='seccion 2'></a> 2. Imputación del Dataset"
   ]
  },
  {
   "cell_type": "markdown",
   "metadata": {},
   "source": [
    "Para revisar  la dispersión de los rendimientos, a continuación se grafican los rendimientos de cada producto por Municipio."
   ]
  },
  {
   "cell_type": "code",
   "execution_count": 13,
   "metadata": {},
   "outputs": [
    {
     "data": {
      "image/png": "[encoded data removed]",
      "text/plain": [
       "plot without title"
      ]
     },
     "metadata": {},
     "output_type": "display_data"
    }
   ],
   "source": [
    "#Primero se construye una función para graficar todas \n",
    "#las series de manera independiente utilziando un bucle\n",
    "\n",
    "#Creación de la función\n",
    "GRAFICAR <- function(x, na.rm = TRUE, ...)\n",
    "    {\n",
    "    nm <- names(x)\n",
    "      for (i in seq_along(nm[3:length(x[1,])])) \n",
    "        {\n",
    "         plots <-ggplot(x,aes(x[,1], x[,(i+2)])) +\n",
    "          geom_boxplot(outlier.colour=\"red\")\n",
    "          plots<-plots+labs(x = \"Municipio\")+\n",
    "          labs(y = \"Rendimiento [Kg/m2]\")+labs(title = \n",
    "                \"Rendimiento para el producto:\", \n",
    "              subtitle = nm[i+2])+theme(axis.text.x  = \n",
    "              element_text(angle=45, vjust=0.5))\n",
    "        print(plots)\n",
    "        }\n",
    "    }\n",
    "#Fin de la función\n",
    "\n",
    "#Se ejecuta la función\n",
    "#GRAFICAR(DATA)\n",
    "\n",
    "#Para facilitar le presentación de los datos, se \n",
    "#imprime a modo de ejemplo, los valores correspondientes\n",
    "#al tercer producto\n",
    "GRAFICAR(as.data.frame(c(DATA[1:2],DATA[5])))"
   ]
  },
  {
   "cell_type": "markdown",
   "metadata": {},
   "source": [
    "Teniendo en cuenta la cantidad de datos perdidos, para todos los productos bajo estudio, la mayoría de las observaciones aparecen en la categoría *NA* . Por otra parte, se evidencia que el producto _Yuca_ es el que presenta mayor variabilidad en los rendimientos, seguido de _Perejil_, _Maíz Blanco_ y _Papas_.\n",
    "\n",
    "Para proseguir con la imputación de datos, se trabajará con tres paquetes diferentes: *MICE*, *missForest* y *mi*, posteriormente se analiZará la diferencia entre los distintos métodos de imputación y finalmente se construirá el _Dataset_ final."
   ]
  },
  {
   "cell_type": "markdown",
   "metadata": {},
   "source": [
    "## <a id='seccion 3'></a> 2.1 Imputación usando MICE"
   ]
  },
  {
   "cell_type": "markdown",
   "metadata": {},
   "source": [
    "Antes de generar la imputación, se revisa de manera breve la cantidad de datos perdidos, para ello el paquete _mice_ cuenta con  la función _md.pattern()_ la cual presenta de manera tabulada los valores perdidos en el _dataset_. Posterior a ello, se utiliza la función _aggr()_ del paquete _VIM_ para estimar de manera porcentual (a la par de visualizar), la cantidad de datos perdidos."
   ]
  },
  {
   "cell_type": "code",
   "execution_count": 14,
   "metadata": {},
   "outputs": [
    {
     "name": "stdout",
     "output_type": "stream",
     "text": [
      "[1] \"La distribución y cantidad de datos perdidos para 10 variables son:\"\n"
     ]
    },
    {
     "data": {
      "text/html": [
       "<table>\n",
       "<thead><tr><th></th><th scope=col>Municipio</th><th scope=col>ID</th><th scope=col>Arracacha</th><th scope=col>Arveja.verde</th><th scope=col>Cebolla.cabezona</th><th scope=col>Cebolla.larga</th><th scope=col>Banano</th><th scope=col>Ahuyama</th><th scope=col>Cebada</th><th scope=col>Cilantro</th><th scope=col></th></tr></thead>\n",
       "<tbody>\n",
       "\t<tr><th scope=row>   1</th><td>1    </td><td>1    </td><td>   0 </td><td>   0 </td><td>   0 </td><td>   0 </td><td>   0 </td><td>   0 </td><td>   0 </td><td>   1 </td><td>    7</td></tr>\n",
       "\t<tr><th scope=row>   5</th><td>1    </td><td>1    </td><td>   0 </td><td>   0 </td><td>   0 </td><td>   1 </td><td>   0 </td><td>   0 </td><td>   0 </td><td>   0 </td><td>    7</td></tr>\n",
       "\t<tr><th scope=row>  15</th><td>1    </td><td>1    </td><td>   0 </td><td>   0 </td><td>   1 </td><td>   0 </td><td>   0 </td><td>   0 </td><td>   0 </td><td>   0 </td><td>    7</td></tr>\n",
       "\t<tr><th scope=row>   1</th><td>1    </td><td>1    </td><td>   0 </td><td>   0 </td><td>   0 </td><td>   0 </td><td>   0 </td><td>   0 </td><td>   1 </td><td>   0 </td><td>    7</td></tr>\n",
       "\t<tr><th scope=row>   4</th><td>1    </td><td>1    </td><td>   0 </td><td>   0 </td><td>   0 </td><td>   0 </td><td>   1 </td><td>   0 </td><td>   0 </td><td>   0 </td><td>    7</td></tr>\n",
       "\t<tr><th scope=row>  68</th><td>1    </td><td>1    </td><td>   0 </td><td>   1 </td><td>   0 </td><td>   0 </td><td>   0 </td><td>   0 </td><td>   0 </td><td>   0 </td><td>    7</td></tr>\n",
       "\t<tr><th scope=row> 521</th><td>1    </td><td>1    </td><td>   1 </td><td>   0 </td><td>   0 </td><td>   0 </td><td>   0 </td><td>   0 </td><td>   0 </td><td>   0 </td><td>    7</td></tr>\n",
       "\t<tr><th scope=row>   3</th><td>1    </td><td>1    </td><td>   0 </td><td>   0 </td><td>   0 </td><td>   0 </td><td>   0 </td><td>   1 </td><td>   0 </td><td>   0 </td><td>    7</td></tr>\n",
       "\t<tr><th scope=row>6421</th><td>1    </td><td>1    </td><td>   0 </td><td>   0 </td><td>   0 </td><td>   0 </td><td>   0 </td><td>   0 </td><td>   0 </td><td>   0 </td><td>    8</td></tr>\n",
       "\t<tr><th scope=row></th><td>0    </td><td>0    </td><td>6518 </td><td>6971 </td><td>7024 </td><td>7034 </td><td>7035 </td><td>7036 </td><td>7038 </td><td>7038 </td><td>55694</td></tr>\n",
       "</tbody>\n",
       "</table>\n"
      ],
      "text/latex": [
       "\\begin{tabular}{r|lllllllllll}\n",
       "  & Municipio & ID & Arracacha & Arveja.verde & Cebolla.cabezona & Cebolla.larga & Banano & Ahuyama & Cebada & Cilantro & \\\\\n",
       "\\hline\n",
       "\t   1 & 1     & 1     &    0  &    0  &    0  &    0  &    0  &    0  &    0  &    1  &     7\\\\\n",
       "\t   5 & 1     & 1     &    0  &    0  &    0  &    1  &    0  &    0  &    0  &    0  &     7\\\\\n",
       "\t  15 & 1     & 1     &    0  &    0  &    1  &    0  &    0  &    0  &    0  &    0  &     7\\\\\n",
       "\t   1 & 1     & 1     &    0  &    0  &    0  &    0  &    0  &    0  &    1  &    0  &     7\\\\\n",
       "\t   4 & 1     & 1     &    0  &    0  &    0  &    0  &    1  &    0  &    0  &    0  &     7\\\\\n",
       "\t  68 & 1     & 1     &    0  &    1  &    0  &    0  &    0  &    0  &    0  &    0  &     7\\\\\n",
       "\t 521 & 1     & 1     &    1  &    0  &    0  &    0  &    0  &    0  &    0  &    0  &     7\\\\\n",
       "\t   3 & 1     & 1     &    0  &    0  &    0  &    0  &    0  &    1  &    0  &    0  &     7\\\\\n",
       "\t6421 & 1     & 1     &    0  &    0  &    0  &    0  &    0  &    0  &    0  &    0  &     8\\\\\n",
       "\t & 0     & 0     & 6518  & 6971  & 7024  & 7034  & 7035  & 7036  & 7038  & 7038  & 55694\\\\\n",
       "\\end{tabular}\n"
      ],
      "text/markdown": [
       "\n",
       "| <!--/--> | Municipio | ID | Arracacha | Arveja.verde | Cebolla.cabezona | Cebolla.larga | Banano | Ahuyama | Cebada | Cilantro |  | \n",
       "|---|---|---|---|---|---|---|---|---|---|\n",
       "|    1 | 1     | 1     |    0  |    0  |    0  |    0  |    0  |    0  |    0  |    1  |     7 | \n",
       "|    5 | 1     | 1     |    0  |    0  |    0  |    1  |    0  |    0  |    0  |    0  |     7 | \n",
       "|   15 | 1     | 1     |    0  |    0  |    1  |    0  |    0  |    0  |    0  |    0  |     7 | \n",
       "|    1 | 1     | 1     |    0  |    0  |    0  |    0  |    0  |    0  |    1  |    0  |     7 | \n",
       "|    4 | 1     | 1     |    0  |    0  |    0  |    0  |    1  |    0  |    0  |    0  |     7 | \n",
       "|   68 | 1     | 1     |    0  |    1  |    0  |    0  |    0  |    0  |    0  |    0  |     7 | \n",
       "|  521 | 1     | 1     |    1  |    0  |    0  |    0  |    0  |    0  |    0  |    0  |     7 | \n",
       "|    3 | 1     | 1     |    0  |    0  |    0  |    0  |    0  |    1  |    0  |    0  |     7 | \n",
       "| 6421 | 1     | 1     |    0  |    0  |    0  |    0  |    0  |    0  |    0  |    0  |     8 | \n",
       "|  | 0     | 0     | 6518  | 6971  | 7024  | 7034  | 7035  | 7036  | 7038  | 7038  | 55694 | \n",
       "\n",
       "\n"
      ],
      "text/plain": [
       "     Municipio ID Arracacha Arveja.verde Cebolla.cabezona Cebolla.larga Banano\n",
       "   1 1         1     0         0            0                0             0  \n",
       "   5 1         1     0         0            0                1             0  \n",
       "  15 1         1     0         0            1                0             0  \n",
       "   1 1         1     0         0            0                0             0  \n",
       "   4 1         1     0         0            0                0             1  \n",
       "  68 1         1     0         1            0                0             0  \n",
       " 521 1         1     1         0            0                0             0  \n",
       "   3 1         1     0         0            0                0             0  \n",
       "6421 1         1     0         0            0                0             0  \n",
       "     0         0  6518      6971         7024             7034          7035  \n",
       "     Ahuyama Cebada Cilantro      \n",
       "   1    0       0      1         7\n",
       "   5    0       0      0         7\n",
       "  15    0       0      0         7\n",
       "   1    0       1      0         7\n",
       "   4    0       0      0         7\n",
       "  68    0       0      0         7\n",
       " 521    0       0      0         7\n",
       "   3    1       0      0         7\n",
       "6421    0       0      0         8\n",
       "     7036    7038   7038     55694"
      ]
     },
     "metadata": {},
     "output_type": "display_data"
    },
    {
     "name": "stdout",
     "output_type": "stream",
     "text": [
      "[1] \"El porcentaje de datos perdido por variable es:\"\n"
     ]
    },
    {
     "name": "stderr",
     "output_type": "stream",
     "text": [
      "Warning message in plot.aggr(res, ...):\n",
      "\"not enough horizontal space to display frequencies\""
     ]
    },
    {
     "name": "stdout",
     "output_type": "stream",
     "text": [
      "\n",
      " Variables sorted by number of missings: \n",
      "         Variable     Count\n",
      "           Cebada 0.9998579\n",
      "         Cilantro 0.9998579\n",
      "          Lechuga 0.9998579\n",
      "           Tomate 0.9998579\n",
      "         Pimenton 0.9997159\n",
      "          Ahuyama 0.9995738\n",
      "           Banano 0.9994317\n",
      "    Cebolla.larga 0.9992897\n",
      " Cebolla.cabezona 0.9978690\n",
      "       Habichuela 0.9951698\n",
      "             Lulo 0.9921864\n",
      "     Arveja.verde 0.9903395\n",
      "           Papaya 0.9737179\n",
      "            Papas 0.9451627\n",
      "        Arracacha 0.9259838\n",
      "          Platano 0.9211536\n",
      "            Pinna 0.9185964\n",
      "      Maiz.Blanco 0.9119193\n",
      "           Frijol 0.9018326\n",
      "          Perejil 0.8201449\n",
      "             Yuca 0.7107544\n",
      "        Municipio 0.0000000\n",
      "               ID 0.0000000\n"
     ]
    },
    {
     "data": {
      "image/png": "[encoded data removed]",
      "text/plain": [
       "plot without title"
      ]
     },
     "metadata": {},
     "output_type": "display_data"
    }
   ],
   "source": [
    "#Se tabulan la cantidad de datos perdidos\n",
    "#md.pattern(DATA)\n",
    "#A modo de ejemplo se muestran 10 variables\n",
    "print(\"La distribución y cantidad de datos perdidos para 10 variables son:\")\n",
    "md.pattern(DATA[1:10])\n",
    "print(\"El porcentaje de datos perdido por variable es:\")\n",
    "mice_plot <- aggr(DATA, col=c('black','gray'),numbers=\n",
    "    TRUE, sortVars=TRUE,labels=names(DATA), \n",
    "    cex.axis=.7,gap=3, ylab=c(\"Datos perdidos\",\"Patrón\"))"
   ]
  },
  {
   "cell_type": "markdown",
   "metadata": {},
   "source": [
    "Se puede concluir que en total existen _140796_ valores perdidos y que, la mayoría de los productos se encuentran presentes en menos del $1\\%$ para cada relación (Producto sembrado en cada Finca), lo cual es acorde a la descripción introductoria, donde se expone que todas las fincas bajo estudio fueron cultivadas con al menos un producto. la cantidad de datos perdidos de manera descendente se presenta a continuación.\n",
    "\n",
    "**Cebada**            $99.98579\\%$\n",
    "           \n",
    "**Cilantro**          $99.98579\\%$\n",
    "         \n",
    "**Lechuga**           $99.98579\\%$\n",
    "            \n",
    "**Tomate**            $99.98579\\%$\n",
    "           \n",
    "**Pimenton**          $99.97159\\%$\n",
    "         \n",
    "**Ahuyama**           $99.95738\\%$\n",
    "          \n",
    "**Banano**            $99.94317\\%$\n",
    "           \n",
    "**Cebolla.larga**     $99.92897\\%$\n",
    "    \n",
    "**Cebolla.cabezona**  $99.78690\\%$\n",
    " \n",
    "**Habichuela**        $99.51698\\%$\n",
    "       \n",
    "**Lulo**              $99.21864\\%$\n",
    "             \n",
    "**Arveja.verde**      $99.03395\\%$\n",
    "     \n",
    "**Papaya**            $97.37179\\%$\n",
    "            \n",
    "**Papas**             $94.51627\\%$\n",
    "                        \n",
    "**Arracacha**         $92.59838\\%$\n",
    "        \n",
    "**Platano**           $92.11536\\%$\n",
    "          \n",
    "**Pinna**             $91.85964\\%$\n",
    "            \n",
    "**Maiz.Blanco**       $91.19193\\%$\n",
    "      \n",
    "**Frijol**            $90.18326\\%$\n",
    "           \n",
    "**Perejil**           $82.01449\\%$\n",
    "          \n",
    "**Yuca**              $71.07544\\%$\n",
    "             \n",
    "**Municipio**         $0.000000\\%$\n",
    "        \n",
    "**ID**                $0.000000\\%$\n",
    "               "
   ]
  },
  {
   "cell_type": "markdown",
   "metadata": {},
   "source": [
    "A continuación se presentan el código utilizado para imputar los datos mediante variables predictoras del mismo dataset"
   ]
  },
  {
   "cell_type": "code",
   "execution_count": 16,
   "metadata": {},
   "outputs": [
    {
     "name": "stdout",
     "output_type": "stream",
     "text": [
      "\n",
      " iter imp variable\n",
      "  1   1  Ahuyama  Arveja.verde  Cebolla.cabezona  Cebolla.larga  Frijol  Habichuela  Lulo  Maiz.Blanco  Papas  Papaya  Perejil  Pimenton  Pinna  Platano  Yuca\n",
      "  2   1  Ahuyama  Arveja.verde  Cebolla.cabezona  Cebolla.larga  Frijol  Habichuela  Lulo  Maiz.Blanco  Papas  Papaya  Perejil  Pimenton  Pinna  Platano  Yuca\n",
      "  3   1  Ahuyama  Arveja.verde  Cebolla.cabezona  Cebolla.larga  Frijol  Habichuela  Lulo  Maiz.Blanco  Papas  Papaya  Perejil  Pimenton  Pinna  Platano  Yuca\n",
      "  4   1  Ahuyama  Arveja.verde  Cebolla.cabezona  Cebolla.larga  Frijol  Habichuela  Lulo  Maiz.Blanco  Papas  Papaya  Perejil  Pimenton  Pinna  Platano  Yuca\n",
      "  5   1  Ahuyama  Arveja.verde  Cebolla.cabezona  Cebolla.larga  Frijol  Habichuela  Lulo  Maiz.Blanco  Papas  Papaya  Perejil  Pimenton  Pinna  Platano  Yuca\n",
      "  6   1  Ahuyama  Arveja.verde  Cebolla.cabezona  Cebolla.larga  Frijol  Habichuela  Lulo  Maiz.Blanco  Papas  Papaya  Perejil  Pimenton  Pinna  Platano  Yuca\n",
      "  7   1  Ahuyama  Arveja.verde  Cebolla.cabezona  Cebolla.larga  Frijol  Habichuela  Lulo  Maiz.Blanco  Papas  Papaya  Perejil  Pimenton  Pinna  Platano  Yuca\n",
      "  8   1  Ahuyama  Arveja.verde  Cebolla.cabezona  Cebolla.larga  Frijol  Habichuela  Lulo  Maiz.Blanco  Papas  Papaya  Perejil  Pimenton  Pinna  Platano  Yuca\n",
      "  9   1  Ahuyama  Arveja.verde  Cebolla.cabezona  Cebolla.larga  Frijol  Habichuela  Lulo  Maiz.Blanco  Papas  Papaya  Perejil  Pimenton  Pinna  Platano  Yuca\n",
      "  10   1  Ahuyama  Arveja.verde  Cebolla.cabezona  Cebolla.larga  Frijol  Habichuela  Lulo  Maiz.Blanco  Papas  Papaya  Perejil  Pimenton  Pinna  Platano  Yuca\n",
      "[1] \"Los estadísticos descriptivos del dataset imputado:\"\n"
     ]
    },
    {
     "data": {
      "text/plain": [
       "      Municipio          ID            Ahuyama        Arracacha   \n",
       " San Gil   :1287   Min.   :  6737   Min.   :2.050   Min.   :0.26  \n",
       " Villanueva: 962   1st Qu.: 71381   1st Qu.:2.050   1st Qu.:0.26  \n",
       " Onzaga    : 896   Median :199277   Median :2.130   Median :0.26  \n",
       " Coromoro  : 653   Mean   :183089   Mean   :2.155   Mean   :0.26  \n",
       " Barichara : 573   3rd Qu.:265047   3rd Qu.:2.280   3rd Qu.:0.26  \n",
       " Encino    : 530   Max.   :342530   Max.   :2.280   Max.   :0.26  \n",
       " (Other)   :2138                                    NA's   :6518  \n",
       "  Arveja.verde        Banano         Cebada     Cebolla.cabezona\n",
       " Min.   :0.8300   Min.   :0.4    Min.   :0.11   Min.   :1.280   \n",
       " 1st Qu.:0.8800   1st Qu.:0.4    1st Qu.:0.11   1st Qu.:1.310   \n",
       " Median :0.9100   Median :0.4    Median :0.11   Median :1.330   \n",
       " Mean   :0.9397   Mean   :0.4    Mean   :0.11   Mean   :1.365   \n",
       " 3rd Qu.:0.9600   3rd Qu.:0.4    3rd Qu.:0.11   3rd Qu.:1.450   \n",
       " Max.   :1.1000   Max.   :0.4    Max.   :0.11   Max.   :1.550   \n",
       "                  NA's   :7035   NA's   :7038                   \n",
       " Cebolla.larga      Cilantro        Frijol         Habichuela       Lechuga    \n",
       " Min.   :1.430   Min.   :2.11   Min.   :0.0100   Min.   :1.890   Min.   :2.14  \n",
       " 1st Qu.:1.520   1st Qu.:2.11   1st Qu.:0.0100   1st Qu.:2.070   1st Qu.:2.14  \n",
       " Median :1.550   Median :2.11   Median :0.0100   Median :2.160   Median :2.14  \n",
       " Mean   :1.573   Mean   :2.11   Mean   :0.1357   Mean   :2.145   Mean   :2.14  \n",
       " 3rd Qu.:1.610   3rd Qu.:2.11   3rd Qu.:0.0100   3rd Qu.:2.240   3rd Qu.:2.14  \n",
       " Max.   :1.760   Max.   :2.11   Max.   :2.3800   Max.   :2.350   Max.   :2.14  \n",
       "                 NA's   :7038                                    NA's   :7038  \n",
       "      Lulo         Maiz.Blanco         Papas          Papaya     \n",
       " Min.   :0.1600   Min.   :0.2900   Min.   :1.27   Min.   :2.690  \n",
       " 1st Qu.:0.1800   1st Qu.:0.3300   1st Qu.:1.45   1st Qu.:2.790  \n",
       " Median :0.1800   Median :0.3400   Median :1.71   Median :2.870  \n",
       " Mean   :0.1825   Mean   :0.3438   Mean   :1.65   Mean   :2.852  \n",
       " 3rd Qu.:0.1900   3rd Qu.:0.3600   3rd Qu.:1.84   3rd Qu.:2.870  \n",
       " Max.   :0.2100   Max.   :0.3900   Max.   :2.06   Max.   :3.060  \n",
       "                                                                 \n",
       "    Perejil          Pimenton        Pinna          Platano      \n",
       " Min.   :0.2300   Min.   :2.09   Min.   :2.170   Min.   :0.6000  \n",
       " 1st Qu.:0.2700   1st Qu.:2.09   1st Qu.:2.260   1st Qu.:0.6200  \n",
       " Median :0.2800   Median :2.09   Median :2.260   Median :0.6300  \n",
       " Mean   :0.2803   Mean   :2.10   Mean   :2.291   Mean   :0.6323  \n",
       " 3rd Qu.:0.2900   3rd Qu.:2.11   3rd Qu.:2.340   3rd Qu.:0.6400  \n",
       " Max.   :0.3300   Max.   :2.11   Max.   :2.380   Max.   :0.6600  \n",
       "                                                                 \n",
       "     Tomate          Yuca      \n",
       " Min.   :1.98   Min.   :0.010  \n",
       " 1st Qu.:1.98   1st Qu.:1.290  \n",
       " Median :1.98   Median :1.330  \n",
       " Mean   :1.98   Mean   :1.333  \n",
       " 3rd Qu.:1.98   3rd Qu.:1.380  \n",
       " Max.   :1.98   Max.   :2.180  \n",
       " NA's   :7038                  "
      ]
     },
     "metadata": {},
     "output_type": "display_data"
    },
    {
     "name": "stdout",
     "output_type": "stream",
     "text": [
      "[1] \"Los estadísticos descriptivos del dataset nuevamente imputado:\"\n"
     ]
    },
    {
     "data": {
      "text/plain": [
       "      Municipio          ID            Ahuyama        Arracacha   \n",
       " San Gil   :1287   Min.   :  6737   Min.   :2.050   Min.   :0.26  \n",
       " Villanueva: 962   1st Qu.: 71381   1st Qu.:2.050   1st Qu.:0.26  \n",
       " Onzaga    : 896   Median :199277   Median :2.130   Median :0.26  \n",
       " Coromoro  : 653   Mean   :183089   Mean   :2.155   Mean   :0.26  \n",
       " Barichara : 573   3rd Qu.:265047   3rd Qu.:2.280   3rd Qu.:0.26  \n",
       " Encino    : 530   Max.   :342530   Max.   :2.280   Max.   :0.26  \n",
       " (Other)   :2138                                                  \n",
       "  Arveja.verde        Banano        Cebada     Cebolla.cabezona Cebolla.larga  \n",
       " Min.   :0.8300   Min.   :0.4   Min.   :0.11   Min.   :1.280    Min.   :1.430  \n",
       " 1st Qu.:0.8800   1st Qu.:0.4   1st Qu.:0.11   1st Qu.:1.310    1st Qu.:1.520  \n",
       " Median :0.9100   Median :0.4   Median :0.11   Median :1.330    Median :1.550  \n",
       " Mean   :0.9397   Mean   :0.4   Mean   :0.11   Mean   :1.365    Mean   :1.573  \n",
       " 3rd Qu.:0.9600   3rd Qu.:0.4   3rd Qu.:0.11   3rd Qu.:1.450    3rd Qu.:1.610  \n",
       " Max.   :1.1000   Max.   :0.4   Max.   :0.11   Max.   :1.550    Max.   :1.760  \n",
       "                                                                               \n",
       "    Cilantro        Frijol         Habichuela       Lechuga    \n",
       " Min.   :2.11   Min.   :0.0100   Min.   :1.890   Min.   :2.14  \n",
       " 1st Qu.:2.11   1st Qu.:0.0100   1st Qu.:2.070   1st Qu.:2.14  \n",
       " Median :2.11   Median :0.0100   Median :2.160   Median :2.14  \n",
       " Mean   :2.11   Mean   :0.1357   Mean   :2.145   Mean   :2.14  \n",
       " 3rd Qu.:2.11   3rd Qu.:0.0100   3rd Qu.:2.240   3rd Qu.:2.14  \n",
       " Max.   :2.11   Max.   :2.3800   Max.   :2.350   Max.   :2.14  \n",
       "                                                               \n",
       "      Lulo         Maiz.Blanco         Papas          Papaya     \n",
       " Min.   :0.1600   Min.   :0.2900   Min.   :1.27   Min.   :2.690  \n",
       " 1st Qu.:0.1800   1st Qu.:0.3300   1st Qu.:1.45   1st Qu.:2.790  \n",
       " Median :0.1800   Median :0.3400   Median :1.71   Median :2.870  \n",
       " Mean   :0.1825   Mean   :0.3438   Mean   :1.65   Mean   :2.852  \n",
       " 3rd Qu.:0.1900   3rd Qu.:0.3600   3rd Qu.:1.84   3rd Qu.:2.870  \n",
       " Max.   :0.2100   Max.   :0.3900   Max.   :2.06   Max.   :3.060  \n",
       "                                                                 \n",
       "    Perejil          Pimenton        Pinna          Platano      \n",
       " Min.   :0.2300   Min.   :2.09   Min.   :2.170   Min.   :0.6000  \n",
       " 1st Qu.:0.2700   1st Qu.:2.09   1st Qu.:2.260   1st Qu.:0.6200  \n",
       " Median :0.2800   Median :2.09   Median :2.260   Median :0.6300  \n",
       " Mean   :0.2803   Mean   :2.10   Mean   :2.291   Mean   :0.6323  \n",
       " 3rd Qu.:0.2900   3rd Qu.:2.11   3rd Qu.:2.340   3rd Qu.:0.6400  \n",
       " Max.   :0.3300   Max.   :2.11   Max.   :2.380   Max.   :0.6600  \n",
       "                                                                 \n",
       "     Tomate          Yuca      \n",
       " Min.   :1.98   Min.   :0.010  \n",
       " 1st Qu.:1.98   1st Qu.:1.290  \n",
       " Median :1.98   Median :1.330  \n",
       " Mean   :1.98   Mean   :1.333  \n",
       " 3rd Qu.:1.98   3rd Qu.:1.380  \n",
       " Max.   :1.98   Max.   :2.180  \n",
       "                               "
      ]
     },
     "metadata": {},
     "output_type": "display_data"
    },
    {
     "data": {
      "image/png": "[encoded data removed]",
      "text/plain": [
       "plot without title"
      ]
     },
     "metadata": {},
     "output_type": "display_data"
    }
   ],
   "source": [
    "#Se cargan los datos a imputar, para evitar la\n",
    "#transformación de número a partir de transformar\n",
    "#listas en datasets, se trabaja con los datos \n",
    "#premultiplicados por 100, evitando así el \n",
    "#uso de variables tipo float\n",
    "DATA2<-read.csv(file=\"DATA100.csv\",\n",
    "       na = c(\"\", \"\"), header=TRUE, sep=\";\") \n",
    "#se transforman a formato dataframe\n",
    "DATA2<-as.data.frame(DATA2)\n",
    "#Se eliminan las primeras dos variables puesto\n",
    "#que el modelo no utiliza variables categóricas\n",
    "DATA2<-DATA2[,3:23]\n",
    "#se genera un modelo de regresión en el cual\n",
    "#todas las variables del dataset que no estén\n",
    "#siendo predecidas en ese isntante, funcionan como \n",
    "#variables predictoras:\n",
    "#predictorMatrix = (1 - diag(1, ncol(DATA2)))\n",
    "#Además, se genera l aimputación utilizando 1\n",
    "#modelo (m=1) y 10 iteraciones\n",
    "imputed_Data <- mice(DATA2, predictorMatrix = \n",
    "    (1 - diag(1, ncol(DATA2))), m=1, \n",
    "         maxit = 10, method = 'pmm', seed = 500)\n",
    "#Los datos del modelo son almacenados en la varaible\n",
    "#DATA_MC, para mantener las variables borradas\n",
    "#(ID y Municipio), se iguala las dimensiones a\n",
    "#la variable DATA, por otra parte, como los datos\n",
    "#son obtenidos a partir de un dataset premultiplicado\n",
    "#por 100, se dividen los valores por la misma\n",
    "#cantidad\n",
    "DATA_MC<-as.data.frame(c(DATA[1:2],mice::complete(imputed_Data,1)/100))\n",
    "#Los estadísticos descriptivos del dataset imputado\n",
    "print('Los estadísticos descriptivos del dataset imputado:')\n",
    "summary(DATA_MC)\n",
    "#Como existen datos vacíos, se procede a imputar \n",
    "#utilizando el promedio de cada producto\n",
    "for(i in 3:ncol(DATA_MC)){\n",
    "  DATA_MC[is.na(DATA_MC[,i]), i] <- mean(DATA_MC[,i], na.rm = TRUE)\n",
    "}\n",
    "print('Los estadísticos descriptivos del dataset nuevamente imputado:')\n",
    "summary(DATA_MC)\n",
    "#Para facilitar le presentación de los datos, se \n",
    "#imprime a modo de ejemplo, los valores correspondientes\n",
    "#al tercer producto\n",
    "GRAFICAR(as.data.frame(c(DATA_MC[1:2],DATA_MC[5]))) "
   ]
  },
  {
   "cell_type": "markdown",
   "metadata": {},
   "source": [
    "Teniendo en cuenta los resultados anteriores, en la estadística descriptiva se evidencia que esta metodología no es capaz de imputar todos los datos (como en el caso del producto Arracacha), lo anterior es consecuencia de la poca cantidad de datos en el dataset original. Por tanto, se imputan los datos con diversas metodologías y se promedian al final.\n",
    "            "
   ]
  },
  {
   "cell_type": "markdown",
   "metadata": {},
   "source": [
    "## <a id='seccion 4'></a> 2.2 Imputación usando missForest"
   ]
  },
  {
   "cell_type": "markdown",
   "metadata": {},
   "source": [
    "El paquete  _missForest_  es una aplicación basada en el algoritmo *random forest*. Lo cual indica que es una imputación no paramétrica que puede ser utilizada a diferentes tipos de variables. Para lo anterior, el algoritmo genera un modelo *random forest* para cada variable a imputar en función de las varaibles observadas.\n",
    "\n",
    "A continuación se expone el algoritmo y metodología usada para impotar el dataset."
   ]
  },
  {
   "cell_type": "code",
   "execution_count": 17,
   "metadata": {},
   "outputs": [
    {
     "name": "stdout",
     "output_type": "stream",
     "text": [
      "  missForest iteration 1 in progress..."
     ]
    },
    {
     "name": "stderr",
     "output_type": "stream",
     "text": [
      "Warning message in randomForest.default(x = obsX, y = obsY, ntree = ntree, mtry = mtry, :\n",
      "\"The response has five or fewer unique values.  Are you sure you want to do regression?\"Warning message in randomForest.default(x = obsX, y = obsY, ntree = ntree, mtry = mtry, :\n",
      "\"The response has five or fewer unique values.  Are you sure you want to do regression?\"Warning message in randomForest.default(x = obsX, y = obsY, ntree = ntree, mtry = mtry, :\n",
      "\"The response has five or fewer unique values.  Are you sure you want to do regression?\"Warning message in randomForest.default(x = obsX, y = obsY, ntree = ntree, mtry = mtry, :\n",
      "\"The response has five or fewer unique values.  Are you sure you want to do regression?\"Warning message in randomForest.default(x = obsX, y = obsY, ntree = ntree, mtry = mtry, :\n",
      "\"The response has five or fewer unique values.  Are you sure you want to do regression?\"Warning message in randomForest.default(x = obsX, y = obsY, ntree = ntree, mtry = mtry, :\n",
      "\"The response has five or fewer unique values.  Are you sure you want to do regression?\"Warning message in randomForest.default(x = obsX, y = obsY, ntree = ntree, mtry = mtry, :\n",
      "\"The response has five or fewer unique values.  Are you sure you want to do regression?\"Warning message in randomForest.default(x = obsX, y = obsY, ntree = ntree, mtry = mtry, :\n",
      "\"The response has five or fewer unique values.  Are you sure you want to do regression?\"Warning message in randomForest.default(x = obsX, y = obsY, ntree = ntree, mtry = mtry, :\n",
      "\"The response has five or fewer unique values.  Are you sure you want to do regression?\""
     ]
    },
    {
     "name": "stdout",
     "output_type": "stream",
     "text": [
      "done!\n",
      "  missForest iteration 2 in progress..."
     ]
    },
    {
     "name": "stderr",
     "output_type": "stream",
     "text": [
      "Warning message in randomForest.default(x = obsX, y = obsY, ntree = ntree, mtry = mtry, :\n",
      "\"The response has five or fewer unique values.  Are you sure you want to do regression?\"Warning message in randomForest.default(x = obsX, y = obsY, ntree = ntree, mtry = mtry, :\n",
      "\"The response has five or fewer unique values.  Are you sure you want to do regression?\"Warning message in randomForest.default(x = obsX, y = obsY, ntree = ntree, mtry = mtry, :\n",
      "\"The response has five or fewer unique values.  Are you sure you want to do regression?\"Warning message in randomForest.default(x = obsX, y = obsY, ntree = ntree, mtry = mtry, :\n",
      "\"The response has five or fewer unique values.  Are you sure you want to do regression?\"Warning message in randomForest.default(x = obsX, y = obsY, ntree = ntree, mtry = mtry, :\n",
      "\"The response has five or fewer unique values.  Are you sure you want to do regression?\"Warning message in randomForest.default(x = obsX, y = obsY, ntree = ntree, mtry = mtry, :\n",
      "\"The response has five or fewer unique values.  Are you sure you want to do regression?\"Warning message in randomForest.default(x = obsX, y = obsY, ntree = ntree, mtry = mtry, :\n",
      "\"The response has five or fewer unique values.  Are you sure you want to do regression?\"Warning message in randomForest.default(x = obsX, y = obsY, ntree = ntree, mtry = mtry, :\n",
      "\"The response has five or fewer unique values.  Are you sure you want to do regression?\"Warning message in randomForest.default(x = obsX, y = obsY, ntree = ntree, mtry = mtry, :\n",
      "\"The response has five or fewer unique values.  Are you sure you want to do regression?\""
     ]
    },
    {
     "name": "stdout",
     "output_type": "stream",
     "text": [
      "done!\n"
     ]
    },
    {
     "name": "stderr",
     "output_type": "stream",
     "text": [
      "Warning message in (function (..., row.names = NULL, check.rows = FALSE, check.names = TRUE, :\n",
      "\"row names were found from a short variable and have been discarded\""
     ]
    },
    {
     "name": "stdout",
     "output_type": "stream",
     "text": [
      "[1] \"Los estadísticos descriptivos del dataset imputado:\"\n"
     ]
    },
    {
     "data": {
      "text/plain": [
       "      Municipio          ID          ximp.Ahuyama   ximp.Arracacha\n",
       " San Gil   :1287   Min.   :  6737   Min.   :2.050   Min.   :0.26  \n",
       " Villanueva: 962   1st Qu.: 71381   1st Qu.:2.151   1st Qu.:0.26  \n",
       " Onzaga    : 896   Median :199277   Median :2.151   Median :0.26  \n",
       " Coromoro  : 653   Mean   :183089   Mean   :2.151   Mean   :0.26  \n",
       " Barichara : 573   3rd Qu.:265047   3rd Qu.:2.151   3rd Qu.:0.26  \n",
       " Encino    : 530   Max.   :342530   Max.   :2.280   Max.   :0.26  \n",
       " (Other)   :2138                                                  \n",
       " ximp.Arveja.verde  ximp.Banano   ximp.Cebada   ximp.Cebolla.cabezona\n",
       " Min.   :0.8300    Min.   :0.4   Min.   :0.11   Min.   :1.280        \n",
       " 1st Qu.:0.9559    1st Qu.:0.4   1st Qu.:0.11   1st Qu.:1.356        \n",
       " Median :0.9559    Median :0.4   Median :0.11   Median :1.356        \n",
       " Mean   :0.9559    Mean   :0.4   Mean   :0.11   Mean   :1.356        \n",
       " 3rd Qu.:0.9559    3rd Qu.:0.4   3rd Qu.:0.11   3rd Qu.:1.356        \n",
       " Max.   :1.1000    Max.   :0.4   Max.   :0.11   Max.   :1.550        \n",
       "                                                                     \n",
       " ximp.Cebolla.larga ximp.Cilantro   ximp.Frijol     ximp.Habichuela\n",
       " Min.   :1.430      Min.   :2.11   Min.   :0.0100   Min.   :1.890  \n",
       " 1st Qu.:1.574      1st Qu.:2.11   1st Qu.:0.1238   1st Qu.:2.118  \n",
       " Median :1.574      Median :2.11   Median :0.1238   Median :2.118  \n",
       " Mean   :1.574      Mean   :2.11   Mean   :0.1237   Mean   :2.118  \n",
       " 3rd Qu.:1.574      3rd Qu.:2.11   3rd Qu.:0.1238   3rd Qu.:2.118  \n",
       " Max.   :1.760      Max.   :2.11   Max.   :2.3800   Max.   :2.350  \n",
       "                                                                   \n",
       "  ximp.Lechuga    ximp.Lulo      ximp.Maiz.Blanco   ximp.Papas   \n",
       " Min.   :2.14   Min.   :0.1600   Min.   :0.2900   Min.   :1.270  \n",
       " 1st Qu.:2.14   1st Qu.:0.1823   1st Qu.:0.3427   1st Qu.:1.651  \n",
       " Median :2.14   Median :0.1823   Median :0.3427   Median :1.651  \n",
       " Mean   :2.14   Mean   :0.1823   Mean   :0.3427   Mean   :1.651  \n",
       " 3rd Qu.:2.14   3rd Qu.:0.1823   3rd Qu.:0.3427   3rd Qu.:1.651  \n",
       " Max.   :2.14   Max.   :0.2100   Max.   :0.3900   Max.   :2.060  \n",
       "                                                                 \n",
       "  ximp.Papaya     ximp.Perejil    ximp.Pimenton    ximp.Pinna  \n",
       " Min.   :2.690   Min.   :0.2300   Min.   :2.09   Min.   :2.17  \n",
       " 1st Qu.:2.842   1st Qu.:0.2798   1st Qu.:2.10   1st Qu.:2.29  \n",
       " Median :2.842   Median :0.2798   Median :2.10   Median :2.29  \n",
       " Mean   :2.842   Mean   :0.2798   Mean   :2.10   Mean   :2.29  \n",
       " 3rd Qu.:2.842   3rd Qu.:0.2798   3rd Qu.:2.10   3rd Qu.:2.29  \n",
       " Max.   :3.060   Max.   :0.3300   Max.   :2.11   Max.   :2.38  \n",
       "                                                               \n",
       "  ximp.Platano     ximp.Tomate     ximp.Yuca        OOBerror   \n",
       " Min.   :0.6000   Min.   :1.98   Min.   :0.010   Min.   : NA   \n",
       " 1st Qu.:0.6327   1st Qu.:1.98   1st Qu.:1.335   1st Qu.: NA   \n",
       " Median :0.6327   Median :1.98   Median :1.335   Median : NA   \n",
       " Mean   :0.6327   Mean   :1.98   Mean   :1.335   Mean   :NaN   \n",
       " 3rd Qu.:0.6327   3rd Qu.:1.98   3rd Qu.:1.335   3rd Qu.: NA   \n",
       " Max.   :0.6600   Max.   :1.98   Max.   :2.180   Max.   : NA   \n",
       "                                                 NA's   :7039  "
      ]
     },
     "metadata": {},
     "output_type": "display_data"
    },
    {
     "data": {
      "image/png": "[encoded data removed]",
      "text/plain": [
       "plot without title"
      ]
     },
     "metadata": {},
     "output_type": "display_data"
    }
   ],
   "source": [
    "#Se cargan los datos a imputar, para evitar la\n",
    "#transformación de número a partir de transformar\n",
    "#listas en datasets, se trabaja con los datos \n",
    "#premultiplicados por 100, evitando así el \n",
    "#uso de variables tipo float\n",
    "DATA2<-read.csv(file=\"DATA100.csv\",\n",
    "       na = c(\"\", \"\"), header=TRUE, sep=\";\") \n",
    "#se transforman a formato dataframe\n",
    "DATA2<-as.data.frame(DATA2)\n",
    "#Se eliminan las primeras dos variables puesto\n",
    "#que el modelo no utiliza variables categóricas\n",
    "DATA2<-DATA2[,3:23]\n",
    "#Se ejecuta el algoritmo de random forest, \n",
    "#para ello se propone trabajar con una cantidad\n",
    "#máxima de 100 árboles y un número de iteraciones\n",
    "#no superior a 10. Teniendo en cuenta que\n",
    "#los datos han sido transformados pre\n",
    "#multiplicando sus valroes por 100, la\n",
    "#salida es dividida en la misma proporción.\n",
    "DATA_RF<-as.data.frame(c(DATA[1:2],\n",
    "      missForest(DATA2,maxiter = 10, ntree = 100,\n",
    "                 decreasing = FALSE)))\n",
    "DATA_RF[3:23]<-DATA_RF[3:23]/100\n",
    "#Los estadísticos descriptivos del dataset imputado\n",
    "print('Los estadísticos descriptivos del dataset imputado:')\n",
    "summary(DATA_RF)\n",
    "#Como el modelo genera una nueva columna con la información\n",
    "#relacionada con el error, ésta es eliminada para permitir\n",
    "#los cálculos entre datasets.\n",
    "DATA_RF<-DATA_RF[1:23]\n",
    "#Para facilitar le presentación de los datos, se \n",
    "#imprime a modo de ejemplo, los valores correspondientes\n",
    "#al tercer producto\n",
    "GRAFICAR(as.data.frame(c(DATA_RF[1:2],DATA_RF[5])))\n",
    " "
   ]
  },
  {
   "cell_type": "markdown",
   "metadata": {},
   "source": [
    "Para el caso de los productos imputados utilizando el algoritmo de _random forest_ es posible estimar el valor de todos los datos. Ahora bien, con el propósito de tener un un dataset consolidado, se procede a realizar un promedio de los dos métodos."
   ]
  },
  {
   "cell_type": "markdown",
   "metadata": {},
   "source": [
    "## <a id='seccion 5'></a> 2.3 Imputación final"
   ]
  },
  {
   "cell_type": "code",
   "execution_count": 18,
   "metadata": {},
   "outputs": [
    {
     "name": "stdout",
     "output_type": "stream",
     "text": [
      "[1] \"Dataset imputado con Mice\"\n"
     ]
    },
    {
     "data": {
      "text/html": [
       "<table>\n",
       "<thead><tr><th scope=col>Municipio</th><th scope=col>ID</th><th scope=col>Ahuyama</th><th scope=col>Arracacha</th><th scope=col>Arveja.verde</th></tr></thead>\n",
       "<tbody>\n",
       "\t<tr><td>Aratoca</td><td>6737   </td><td>2.13   </td><td>0.26   </td><td>0.85   </td></tr>\n",
       "\t<tr><td>Aratoca</td><td>6763   </td><td>2.05   </td><td>0.26   </td><td>0.86   </td></tr>\n",
       "\t<tr><td>Aratoca</td><td>6783   </td><td>2.28   </td><td>0.26   </td><td>0.85   </td></tr>\n",
       "\t<tr><td>Aratoca</td><td>6819   </td><td>2.13   </td><td>0.26   </td><td>0.85   </td></tr>\n",
       "\t<tr><td>Aratoca</td><td>6862   </td><td>2.13   </td><td>0.26   </td><td>0.88   </td></tr>\n",
       "\t<tr><td>Aratoca</td><td>6870   </td><td>2.05   </td><td>0.26   </td><td>0.83   </td></tr>\n",
       "</tbody>\n",
       "</table>\n"
      ],
      "text/latex": [
       "\\begin{tabular}{r|lllll}\n",
       " Municipio & ID & Ahuyama & Arracacha & Arveja.verde\\\\\n",
       "\\hline\n",
       "\t Aratoca & 6737    & 2.13    & 0.26    & 0.85   \\\\\n",
       "\t Aratoca & 6763    & 2.05    & 0.26    & 0.86   \\\\\n",
       "\t Aratoca & 6783    & 2.28    & 0.26    & 0.85   \\\\\n",
       "\t Aratoca & 6819    & 2.13    & 0.26    & 0.85   \\\\\n",
       "\t Aratoca & 6862    & 2.13    & 0.26    & 0.88   \\\\\n",
       "\t Aratoca & 6870    & 2.05    & 0.26    & 0.83   \\\\\n",
       "\\end{tabular}\n"
      ],
      "text/markdown": [
       "\n",
       "Municipio | ID | Ahuyama | Arracacha | Arveja.verde | \n",
       "|---|---|---|---|---|---|\n",
       "| Aratoca | 6737    | 2.13    | 0.26    | 0.85    | \n",
       "| Aratoca | 6763    | 2.05    | 0.26    | 0.86    | \n",
       "| Aratoca | 6783    | 2.28    | 0.26    | 0.85    | \n",
       "| Aratoca | 6819    | 2.13    | 0.26    | 0.85    | \n",
       "| Aratoca | 6862    | 2.13    | 0.26    | 0.88    | \n",
       "| Aratoca | 6870    | 2.05    | 0.26    | 0.83    | \n",
       "\n",
       "\n"
      ],
      "text/plain": [
       "  Municipio ID   Ahuyama Arracacha Arveja.verde\n",
       "1 Aratoca   6737 2.13    0.26      0.85        \n",
       "2 Aratoca   6763 2.05    0.26      0.86        \n",
       "3 Aratoca   6783 2.28    0.26      0.85        \n",
       "4 Aratoca   6819 2.13    0.26      0.85        \n",
       "5 Aratoca   6862 2.13    0.26      0.88        \n",
       "6 Aratoca   6870 2.05    0.26      0.83        "
      ]
     },
     "metadata": {},
     "output_type": "display_data"
    },
    {
     "name": "stdout",
     "output_type": "stream",
     "text": [
      "[1] \"Dataset imputado con Random Forest\"\n"
     ]
    },
    {
     "data": {
      "text/html": [
       "<table>\n",
       "<thead><tr><th scope=col>Municipio</th><th scope=col>ID</th><th scope=col>Ahuyama</th><th scope=col>Arracacha</th><th scope=col>Arveja.verde</th></tr></thead>\n",
       "<tbody>\n",
       "\t<tr><td>Aratoca  </td><td>6737     </td><td>2.1505   </td><td>0.26     </td><td>0.9559324</td></tr>\n",
       "\t<tr><td>Aratoca  </td><td>6763     </td><td>2.1505   </td><td>0.26     </td><td>0.9559324</td></tr>\n",
       "\t<tr><td>Aratoca  </td><td>6783     </td><td>2.1505   </td><td>0.26     </td><td>0.9559324</td></tr>\n",
       "\t<tr><td>Aratoca  </td><td>6819     </td><td>2.1505   </td><td>0.26     </td><td>0.9559324</td></tr>\n",
       "\t<tr><td>Aratoca  </td><td>6862     </td><td>2.1505   </td><td>0.26     </td><td>0.9559324</td></tr>\n",
       "\t<tr><td>Aratoca  </td><td>6870     </td><td>2.1505   </td><td>0.26     </td><td>0.9559324</td></tr>\n",
       "</tbody>\n",
       "</table>\n"
      ],
      "text/latex": [
       "\\begin{tabular}{r|lllll}\n",
       " Municipio & ID & Ahuyama & Arracacha & Arveja.verde\\\\\n",
       "\\hline\n",
       "\t Aratoca   & 6737      & 2.1505    & 0.26      & 0.9559324\\\\\n",
       "\t Aratoca   & 6763      & 2.1505    & 0.26      & 0.9559324\\\\\n",
       "\t Aratoca   & 6783      & 2.1505    & 0.26      & 0.9559324\\\\\n",
       "\t Aratoca   & 6819      & 2.1505    & 0.26      & 0.9559324\\\\\n",
       "\t Aratoca   & 6862      & 2.1505    & 0.26      & 0.9559324\\\\\n",
       "\t Aratoca   & 6870      & 2.1505    & 0.26      & 0.9559324\\\\\n",
       "\\end{tabular}\n"
      ],
      "text/markdown": [
       "\n",
       "Municipio | ID | Ahuyama | Arracacha | Arveja.verde | \n",
       "|---|---|---|---|---|---|\n",
       "| Aratoca   | 6737      | 2.1505    | 0.26      | 0.9559324 | \n",
       "| Aratoca   | 6763      | 2.1505    | 0.26      | 0.9559324 | \n",
       "| Aratoca   | 6783      | 2.1505    | 0.26      | 0.9559324 | \n",
       "| Aratoca   | 6819      | 2.1505    | 0.26      | 0.9559324 | \n",
       "| Aratoca   | 6862      | 2.1505    | 0.26      | 0.9559324 | \n",
       "| Aratoca   | 6870      | 2.1505    | 0.26      | 0.9559324 | \n",
       "\n",
       "\n"
      ],
      "text/plain": [
       "  Municipio ID   Ahuyama Arracacha Arveja.verde\n",
       "1 Aratoca   6737 2.1505  0.26      0.9559324   \n",
       "2 Aratoca   6763 2.1505  0.26      0.9559324   \n",
       "3 Aratoca   6783 2.1505  0.26      0.9559324   \n",
       "4 Aratoca   6819 2.1505  0.26      0.9559324   \n",
       "5 Aratoca   6862 2.1505  0.26      0.9559324   \n",
       "6 Aratoca   6870 2.1505  0.26      0.9559324   "
      ]
     },
     "metadata": {},
     "output_type": "display_data"
    },
    {
     "name": "stdout",
     "output_type": "stream",
     "text": [
      "[1] \"dimensiones del Dataset imputado con Mice\"\n"
     ]
    },
    {
     "data": {
      "text/html": [
       "<ol class=list-inline>\n",
       "\t<li>7039</li>\n",
       "\t<li>23</li>\n",
       "</ol>\n"
      ],
      "text/latex": [
       "\\begin{enumerate*}\n",
       "\\item 7039\n",
       "\\item 23\n",
       "\\end{enumerate*}\n"
      ],
      "text/markdown": [
       "1. 7039\n",
       "2. 23\n",
       "\n",
       "\n"
      ],
      "text/plain": [
       "[1] 7039   23"
      ]
     },
     "metadata": {},
     "output_type": "display_data"
    },
    {
     "name": "stdout",
     "output_type": "stream",
     "text": [
      "[1] \"dimensiones del Dataset imputado con Random Forest\"\n"
     ]
    },
    {
     "data": {
      "text/html": [
       "<ol class=list-inline>\n",
       "\t<li>7039</li>\n",
       "\t<li>23</li>\n",
       "</ol>\n"
      ],
      "text/latex": [
       "\\begin{enumerate*}\n",
       "\\item 7039\n",
       "\\item 23\n",
       "\\end{enumerate*}\n"
      ],
      "text/markdown": [
       "1. 7039\n",
       "2. 23\n",
       "\n",
       "\n"
      ],
      "text/plain": [
       "[1] 7039   23"
      ]
     },
     "metadata": {},
     "output_type": "display_data"
    },
    {
     "name": "stdout",
     "output_type": "stream",
     "text": [
      "[1] \"Dataset imputado final\"\n"
     ]
    },
    {
     "data": {
      "text/html": [
       "<table>\n",
       "<thead><tr><th scope=col>Municipio</th><th scope=col>ID</th><th scope=col>Ahuyama</th><th scope=col>Arracacha</th><th scope=col>Arveja.verde</th></tr></thead>\n",
       "<tbody>\n",
       "\t<tr><td>Aratoca  </td><td>6737     </td><td>2.14025  </td><td>0.26     </td><td>0.9029662</td></tr>\n",
       "\t<tr><td>Aratoca  </td><td>6763     </td><td>2.10025  </td><td>0.26     </td><td>0.9079662</td></tr>\n",
       "\t<tr><td>Aratoca  </td><td>6783     </td><td>2.21525  </td><td>0.26     </td><td>0.9029662</td></tr>\n",
       "\t<tr><td>Aratoca  </td><td>6819     </td><td>2.14025  </td><td>0.26     </td><td>0.9029662</td></tr>\n",
       "\t<tr><td>Aratoca  </td><td>6862     </td><td>2.14025  </td><td>0.26     </td><td>0.9179662</td></tr>\n",
       "\t<tr><td>Aratoca  </td><td>6870     </td><td>2.10025  </td><td>0.26     </td><td>0.8929662</td></tr>\n",
       "</tbody>\n",
       "</table>\n"
      ],
      "text/latex": [
       "\\begin{tabular}{r|lllll}\n",
       " Municipio & ID & Ahuyama & Arracacha & Arveja.verde\\\\\n",
       "\\hline\n",
       "\t Aratoca   & 6737      & 2.14025   & 0.26      & 0.9029662\\\\\n",
       "\t Aratoca   & 6763      & 2.10025   & 0.26      & 0.9079662\\\\\n",
       "\t Aratoca   & 6783      & 2.21525   & 0.26      & 0.9029662\\\\\n",
       "\t Aratoca   & 6819      & 2.14025   & 0.26      & 0.9029662\\\\\n",
       "\t Aratoca   & 6862      & 2.14025   & 0.26      & 0.9179662\\\\\n",
       "\t Aratoca   & 6870      & 2.10025   & 0.26      & 0.8929662\\\\\n",
       "\\end{tabular}\n"
      ],
      "text/markdown": [
       "\n",
       "Municipio | ID | Ahuyama | Arracacha | Arveja.verde | \n",
       "|---|---|---|---|---|---|\n",
       "| Aratoca   | 6737      | 2.14025   | 0.26      | 0.9029662 | \n",
       "| Aratoca   | 6763      | 2.10025   | 0.26      | 0.9079662 | \n",
       "| Aratoca   | 6783      | 2.21525   | 0.26      | 0.9029662 | \n",
       "| Aratoca   | 6819      | 2.14025   | 0.26      | 0.9029662 | \n",
       "| Aratoca   | 6862      | 2.14025   | 0.26      | 0.9179662 | \n",
       "| Aratoca   | 6870      | 2.10025   | 0.26      | 0.8929662 | \n",
       "\n",
       "\n"
      ],
      "text/plain": [
       "  Municipio ID   Ahuyama Arracacha Arveja.verde\n",
       "1 Aratoca   6737 2.14025 0.26      0.9029662   \n",
       "2 Aratoca   6763 2.10025 0.26      0.9079662   \n",
       "3 Aratoca   6783 2.21525 0.26      0.9029662   \n",
       "4 Aratoca   6819 2.14025 0.26      0.9029662   \n",
       "5 Aratoca   6862 2.14025 0.26      0.9179662   \n",
       "6 Aratoca   6870 2.10025 0.26      0.8929662   "
      ]
     },
     "metadata": {},
     "output_type": "display_data"
    },
    {
     "name": "stdout",
     "output_type": "stream",
     "text": [
      "[1] \"Resumen estadístico del Dataset imputado final\"\n"
     ]
    },
    {
     "data": {
      "text/plain": [
       "      Municipio          ID            Ahuyama        Arracacha   \n",
       " San Gil   :1287   Min.   :  6737   Min.   :2.050   Min.   :0.26  \n",
       " Villanueva: 962   1st Qu.: 71381   1st Qu.:2.100   1st Qu.:0.26  \n",
       " Onzaga    : 896   Median :199277   Median :2.140   Median :0.26  \n",
       " Coromoro  : 653   Mean   :183089   Mean   :2.153   Mean   :0.26  \n",
       " Barichara : 573   3rd Qu.:265047   3rd Qu.:2.215   3rd Qu.:0.26  \n",
       " Encino    : 530   Max.   :342530   Max.   :2.280   Max.   :0.26  \n",
       " (Other)   :2138                                                  \n",
       "  Arveja.verde        Banano        Cebada     Cebolla.cabezona Cebolla.larga  \n",
       " Min.   :0.8300   Min.   :0.4   Min.   :0.11   Min.   :1.280    Min.   :1.430  \n",
       " 1st Qu.:0.9180   1st Qu.:0.4   1st Qu.:0.11   1st Qu.:1.333    1st Qu.:1.547  \n",
       " Median :0.9330   Median :0.4   Median :0.11   Median :1.343    Median :1.562  \n",
       " Mean   :0.9478   Mean   :0.4   Mean   :0.11   Mean   :1.360    Mean   :1.573  \n",
       " 3rd Qu.:0.9580   3rd Qu.:0.4   3rd Qu.:0.11   3rd Qu.:1.403    3rd Qu.:1.592  \n",
       " Max.   :1.1000   Max.   :0.4   Max.   :0.11   Max.   :1.550    Max.   :1.760  \n",
       "                                                                               \n",
       "    Cilantro        Frijol          Habichuela       Lechuga    \n",
       " Min.   :2.11   Min.   :0.01000   Min.   :1.890   Min.   :2.14  \n",
       " 1st Qu.:2.11   1st Qu.:0.06688   1st Qu.:2.094   1st Qu.:2.14  \n",
       " Median :2.11   Median :0.06688   Median :2.139   Median :2.14  \n",
       " Mean   :2.11   Mean   :0.12969   Mean   :2.131   Mean   :2.14  \n",
       " 3rd Qu.:2.11   3rd Qu.:0.06688   3rd Qu.:2.179   3rd Qu.:2.14  \n",
       " Max.   :2.11   Max.   :2.38000   Max.   :2.350   Max.   :2.14  \n",
       "                                                                \n",
       "      Lulo         Maiz.Blanco         Papas           Papaya     \n",
       " Min.   :0.1600   Min.   :0.2900   Min.   :1.270   Min.   :2.690  \n",
       " 1st Qu.:0.1811   1st Qu.:0.3364   1st Qu.:1.550   1st Qu.:2.801  \n",
       " Median :0.1811   Median :0.3414   Median :1.680   Median :2.856  \n",
       " Mean   :0.1824   Mean   :0.3432   Mean   :1.651   Mean   :2.847  \n",
       " 3rd Qu.:0.1861   3rd Qu.:0.3514   3rd Qu.:1.745   3rd Qu.:2.856  \n",
       " Max.   :0.2100   Max.   :0.3900   Max.   :2.060   Max.   :3.060  \n",
       "                                                                  \n",
       "    Perejil          Pimenton         Pinna          Platano      \n",
       " Min.   :0.2300   Min.   :2.090   Min.   :2.170   Min.   :0.6000  \n",
       " 1st Qu.:0.2749   1st Qu.:2.095   1st Qu.:2.275   1st Qu.:0.6263  \n",
       " Median :0.2799   Median :2.095   Median :2.275   Median :0.6313  \n",
       " Mean   :0.2801   Mean   :2.100   Mean   :2.291   Mean   :0.6325  \n",
       " 3rd Qu.:0.2849   3rd Qu.:2.105   3rd Qu.:2.315   3rd Qu.:0.6363  \n",
       " Max.   :0.3300   Max.   :2.110   Max.   :2.380   Max.   :0.6600  \n",
       "                                                                  \n",
       "     Tomate          Yuca      \n",
       " Min.   :1.98   Min.   :0.010  \n",
       " 1st Qu.:1.98   1st Qu.:1.307  \n",
       " Median :1.98   Median :1.332  \n",
       " Mean   :1.98   Mean   :1.334  \n",
       " 3rd Qu.:1.98   3rd Qu.:1.360  \n",
       " Max.   :1.98   Max.   :2.180  \n",
       "                               "
      ]
     },
     "metadata": {},
     "output_type": "display_data"
    },
    {
     "data": {
      "image/png": "[encoded data removed]",
      "text/plain": [
       "plot without title"
      ]
     },
     "metadata": {},
     "output_type": "display_data"
    }
   ],
   "source": [
    "#para generar una unión en los datasets ambos\n",
    "#deben tener igual nombre de variables, debido\n",
    "#a que el dataset obtenido mediante random forest\n",
    "#genera un nuevo nombre de variables, estas\n",
    "#deben ser unificadas con el nombre del dataset\n",
    "#obtenido con el mñetido de Mice\n",
    "colnames(DATA_RF)<-colnames(DATA_MC)\n",
    "#un ejemplo para 5 variables se encuentra a \n",
    "#continuación\n",
    "print('Dataset imputado con Mice')\n",
    "head(DATA_MC[1:5])\n",
    "print('Dataset imputado con Random Forest')\n",
    "head(DATA_RF[1:5])\n",
    "#Se verifica que posean la misma cantidad de variables\n",
    "print('dimensiones del Dataset imputado con Mice')\n",
    "dim(DATA_MC)\n",
    "print('dimensiones del Dataset imputado con Random Forest')\n",
    "dim(DATA_RF)\n",
    "#Se crea un nuevo dataset con el tamaño del original\n",
    "DATA_IMPUTADO<-DATA\n",
    "#Se promedian los valores de los dataset\n",
    "DATA_IMPUTADO[3:23]<-((as.numeric(unlist(DATA_RF[3:23])))\n",
    "                      +(as.numeric(unlist(DATA_MC[3:23]))))/2\n",
    "#un ejemplodel resultado final para 5 variables se \n",
    "#encuentra a continuación\n",
    "print('Dataset imputado final')\n",
    "head(DATA_IMPUTADO[1:5])\n",
    "#Se genera el resumen estadístico del dataset final\n",
    "print('Resumen estadístico del Dataset imputado final')\n",
    "summary(DATA_IMPUTADO)\n",
    "#Se grafican los resultados\n",
    "#GRAFICAR(DATA_IMPUTADO)\n",
    "#Para facilitar le presentación de los datos, se \n",
    "#imprime a modo de ejemplo, los valores correspondientes\n",
    "#al tercer producto\n",
    "GRAFICAR(as.data.frame(c(DATA_IMPUTADO[1:2],DATA_IMPUTADO[5])))"
   ]
  },
  {
   "cell_type": "code",
   "execution_count": null,
   "metadata": {},
   "outputs": [],
   "source": [
    "#Se guarda el dataset\n",
    "write.csv(DATA_IMPUTADO, file=\"C:RENDIMIENTOS POR LOTE.csv\")  "
   ]
  },
  {
   "cell_type": "code",
   "execution_count": null,
   "metadata": {},
   "outputs": [],
   "source": []
  }
 ],
 "metadata": {
  "kernelspec": {
   "display_name": "R",
   "language": "R",
   "name": "ir"
  },
  "language_info": {
   "codemirror_mode": "r",
   "file_extension": ".r",
   "mimetype": "text/x-r-source",
   "name": "R",
   "pygments_lexer": "r",
   "version": "3.4.3"
  }
 },
 "nbformat": 4,
 "nbformat_minor": 2
}
